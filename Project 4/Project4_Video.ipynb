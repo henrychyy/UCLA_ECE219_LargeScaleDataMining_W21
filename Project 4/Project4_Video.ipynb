{
  "nbformat": 4,
  "nbformat_minor": 0,
  "metadata": {
    "colab": {
      "name": "Project4_Video.ipynb",
      "provenance": [],
      "machine_shape": "hm"
    },
    "kernelspec": {
      "name": "python3",
      "display_name": "Python 3"
    }
  },
  "cells": [
    {
      "cell_type": "code",
      "metadata": {
        "id": "wkvzpZobCGdA"
      },
      "source": [
        "import pandas as pd\n",
        "import numpy as np\n",
        "import seaborn as sns\n",
        "import matplotlib.pyplot as plt\n",
        "from sklearn import preprocessing\n",
        "from sklearn.preprocessing import StandardScaler\n",
        "from sklearn.feature_selection import mutual_info_regression, f_regression,SelectKBest\n",
        "from sklearn.model_selection import cross_validate\n",
        "from sklearn.tree import export_graphviz\n",
        "import pydot\n",
        "from IPython.display import Image"
      ],
      "execution_count": 18,
      "outputs": []
    },
    {
      "cell_type": "code",
      "metadata": {
        "id": "s2WOIVm1ySwx",
        "colab": {
          "base_uri": "https://localhost:8080/"
        },
        "outputId": "4a004374-39f7-43dd-a6af-be5633f842c2"
      },
      "source": [
        "from google.colab import drive \n",
        "drive.mount('/content/drive')\n",
        "video_path = \"/content/drive/MyDrive/219/transcoding_mesurment.tsv\" \n",
        "df_video = pd.read_csv(video_path, sep='\\t')"
      ],
      "execution_count": 19,
      "outputs": [
        {
          "output_type": "stream",
          "text": [
            "Drive already mounted at /content/drive; to attempt to forcibly remount, call drive.mount(\"/content/drive\", force_remount=True).\n"
          ],
          "name": "stdout"
        }
      ]
    },
    {
      "cell_type": "code",
      "metadata": {
        "id": "Q77AmnnIyU1O",
        "colab": {
          "base_uri": "https://localhost:8080/"
        },
        "outputId": "39ec1772-ec29-46ff-df4c-46ef796cc92f"
      },
      "source": [
        "df_video.info()"
      ],
      "execution_count": null,
      "outputs": [
        {
          "output_type": "stream",
          "text": [
            "<class 'pandas.core.frame.DataFrame'>\n",
            "RangeIndex: 68784 entries, 0 to 68783\n",
            "Data columns (total 22 columns):\n",
            " #   Column       Non-Null Count  Dtype  \n",
            "---  ------       --------------  -----  \n",
            " 0   id           68784 non-null  object \n",
            " 1   duration     68784 non-null  float64\n",
            " 2   codec        68784 non-null  object \n",
            " 3   width        68784 non-null  int64  \n",
            " 4   height       68784 non-null  int64  \n",
            " 5   bitrate      68784 non-null  int64  \n",
            " 6   framerate    68784 non-null  float64\n",
            " 7   i            68784 non-null  int64  \n",
            " 8   p            68784 non-null  int64  \n",
            " 9   b            68784 non-null  int64  \n",
            " 10  frames       68784 non-null  int64  \n",
            " 11  i_size       68784 non-null  int64  \n",
            " 12  p_size       68784 non-null  int64  \n",
            " 13  b_size       68784 non-null  int64  \n",
            " 14  size         68784 non-null  int64  \n",
            " 15  o_codec      68784 non-null  object \n",
            " 16  o_bitrate    68784 non-null  int64  \n",
            " 17  o_framerate  68784 non-null  float64\n",
            " 18  o_width      68784 non-null  int64  \n",
            " 19  o_height     68784 non-null  int64  \n",
            " 20  umem         68784 non-null  int64  \n",
            " 21  utime        68784 non-null  float64\n",
            "dtypes: float64(4), int64(15), object(3)\n",
            "memory usage: 11.5+ MB\n"
          ],
          "name": "stdout"
        }
      ]
    },
    {
      "cell_type": "code",
      "metadata": {
        "colab": {
          "base_uri": "https://localhost:8080/",
          "height": 204
        },
        "id": "_5jWn5AlyVWi",
        "outputId": "da4df482-0676-4d4f-db5b-b25a4dd6c3cf"
      },
      "source": [
        "df_video.head()"
      ],
      "execution_count": null,
      "outputs": [
        {
          "output_type": "execute_result",
          "data": {
            "text/html": [
              "<div>\n",
              "<style scoped>\n",
              "    .dataframe tbody tr th:only-of-type {\n",
              "        vertical-align: middle;\n",
              "    }\n",
              "\n",
              "    .dataframe tbody tr th {\n",
              "        vertical-align: top;\n",
              "    }\n",
              "\n",
              "    .dataframe thead th {\n",
              "        text-align: right;\n",
              "    }\n",
              "</style>\n",
              "<table border=\"1\" class=\"dataframe\">\n",
              "  <thead>\n",
              "    <tr style=\"text-align: right;\">\n",
              "      <th></th>\n",
              "      <th>id</th>\n",
              "      <th>duration</th>\n",
              "      <th>codec</th>\n",
              "      <th>width</th>\n",
              "      <th>height</th>\n",
              "      <th>bitrate</th>\n",
              "      <th>framerate</th>\n",
              "      <th>i</th>\n",
              "      <th>p</th>\n",
              "      <th>b</th>\n",
              "      <th>frames</th>\n",
              "      <th>i_size</th>\n",
              "      <th>p_size</th>\n",
              "      <th>b_size</th>\n",
              "      <th>size</th>\n",
              "      <th>o_codec</th>\n",
              "      <th>o_bitrate</th>\n",
              "      <th>o_framerate</th>\n",
              "      <th>o_width</th>\n",
              "      <th>o_height</th>\n",
              "      <th>umem</th>\n",
              "      <th>utime</th>\n",
              "    </tr>\n",
              "  </thead>\n",
              "  <tbody>\n",
              "    <tr>\n",
              "      <th>0</th>\n",
              "      <td>04t6-jw9czg</td>\n",
              "      <td>130.35667</td>\n",
              "      <td>mpeg4</td>\n",
              "      <td>176</td>\n",
              "      <td>144</td>\n",
              "      <td>54590</td>\n",
              "      <td>12.0</td>\n",
              "      <td>27</td>\n",
              "      <td>1537</td>\n",
              "      <td>0</td>\n",
              "      <td>1564</td>\n",
              "      <td>64483</td>\n",
              "      <td>825054</td>\n",
              "      <td>0</td>\n",
              "      <td>889537</td>\n",
              "      <td>mpeg4</td>\n",
              "      <td>56000</td>\n",
              "      <td>12.0</td>\n",
              "      <td>176</td>\n",
              "      <td>144</td>\n",
              "      <td>22508</td>\n",
              "      <td>0.612</td>\n",
              "    </tr>\n",
              "    <tr>\n",
              "      <th>1</th>\n",
              "      <td>04t6-jw9czg</td>\n",
              "      <td>130.35667</td>\n",
              "      <td>mpeg4</td>\n",
              "      <td>176</td>\n",
              "      <td>144</td>\n",
              "      <td>54590</td>\n",
              "      <td>12.0</td>\n",
              "      <td>27</td>\n",
              "      <td>1537</td>\n",
              "      <td>0</td>\n",
              "      <td>1564</td>\n",
              "      <td>64483</td>\n",
              "      <td>825054</td>\n",
              "      <td>0</td>\n",
              "      <td>889537</td>\n",
              "      <td>mpeg4</td>\n",
              "      <td>56000</td>\n",
              "      <td>12.0</td>\n",
              "      <td>320</td>\n",
              "      <td>240</td>\n",
              "      <td>25164</td>\n",
              "      <td>0.980</td>\n",
              "    </tr>\n",
              "    <tr>\n",
              "      <th>2</th>\n",
              "      <td>04t6-jw9czg</td>\n",
              "      <td>130.35667</td>\n",
              "      <td>mpeg4</td>\n",
              "      <td>176</td>\n",
              "      <td>144</td>\n",
              "      <td>54590</td>\n",
              "      <td>12.0</td>\n",
              "      <td>27</td>\n",
              "      <td>1537</td>\n",
              "      <td>0</td>\n",
              "      <td>1564</td>\n",
              "      <td>64483</td>\n",
              "      <td>825054</td>\n",
              "      <td>0</td>\n",
              "      <td>889537</td>\n",
              "      <td>mpeg4</td>\n",
              "      <td>56000</td>\n",
              "      <td>12.0</td>\n",
              "      <td>480</td>\n",
              "      <td>360</td>\n",
              "      <td>29228</td>\n",
              "      <td>1.216</td>\n",
              "    </tr>\n",
              "    <tr>\n",
              "      <th>3</th>\n",
              "      <td>04t6-jw9czg</td>\n",
              "      <td>130.35667</td>\n",
              "      <td>mpeg4</td>\n",
              "      <td>176</td>\n",
              "      <td>144</td>\n",
              "      <td>54590</td>\n",
              "      <td>12.0</td>\n",
              "      <td>27</td>\n",
              "      <td>1537</td>\n",
              "      <td>0</td>\n",
              "      <td>1564</td>\n",
              "      <td>64483</td>\n",
              "      <td>825054</td>\n",
              "      <td>0</td>\n",
              "      <td>889537</td>\n",
              "      <td>mpeg4</td>\n",
              "      <td>56000</td>\n",
              "      <td>12.0</td>\n",
              "      <td>640</td>\n",
              "      <td>480</td>\n",
              "      <td>34316</td>\n",
              "      <td>1.692</td>\n",
              "    </tr>\n",
              "    <tr>\n",
              "      <th>4</th>\n",
              "      <td>04t6-jw9czg</td>\n",
              "      <td>130.35667</td>\n",
              "      <td>mpeg4</td>\n",
              "      <td>176</td>\n",
              "      <td>144</td>\n",
              "      <td>54590</td>\n",
              "      <td>12.0</td>\n",
              "      <td>27</td>\n",
              "      <td>1537</td>\n",
              "      <td>0</td>\n",
              "      <td>1564</td>\n",
              "      <td>64483</td>\n",
              "      <td>825054</td>\n",
              "      <td>0</td>\n",
              "      <td>889537</td>\n",
              "      <td>mpeg4</td>\n",
              "      <td>56000</td>\n",
              "      <td>12.0</td>\n",
              "      <td>1280</td>\n",
              "      <td>720</td>\n",
              "      <td>58528</td>\n",
              "      <td>3.456</td>\n",
              "    </tr>\n",
              "  </tbody>\n",
              "</table>\n",
              "</div>"
            ],
            "text/plain": [
              "            id   duration  codec  width  ...  o_width  o_height   umem  utime\n",
              "0  04t6-jw9czg  130.35667  mpeg4    176  ...      176       144  22508  0.612\n",
              "1  04t6-jw9czg  130.35667  mpeg4    176  ...      320       240  25164  0.980\n",
              "2  04t6-jw9czg  130.35667  mpeg4    176  ...      480       360  29228  1.216\n",
              "3  04t6-jw9czg  130.35667  mpeg4    176  ...      640       480  34316  1.692\n",
              "4  04t6-jw9czg  130.35667  mpeg4    176  ...     1280       720  58528  3.456\n",
              "\n",
              "[5 rows x 22 columns]"
            ]
          },
          "metadata": {
            "tags": []
          },
          "execution_count": 5
        }
      ]
    },
    {
      "cell_type": "code",
      "metadata": {
        "colab": {
          "base_uri": "https://localhost:8080/"
        },
        "id": "g8w-WQAD4OaA",
        "outputId": "63d027fc-4473-47cc-caa3-02cfba91a2e9"
      },
      "source": [
        "(df_video['o_codec']).unique()"
      ],
      "execution_count": 20,
      "outputs": [
        {
          "output_type": "execute_result",
          "data": {
            "text/plain": [
              "array(['mpeg4', 'vp8', 'flv', 'h264'], dtype=object)"
            ]
          },
          "metadata": {
            "tags": []
          },
          "execution_count": 20
        }
      ]
    },
    {
      "cell_type": "code",
      "metadata": {
        "colab": {
          "base_uri": "https://localhost:8080/"
        },
        "id": "LB71ppTa5Dh4",
        "outputId": "9ab4b5b9-c047-44d6-d8e0-16b8380f470f"
      },
      "source": [
        "(df_video['codec']).unique()"
      ],
      "execution_count": 21,
      "outputs": [
        {
          "output_type": "execute_result",
          "data": {
            "text/plain": [
              "array(['mpeg4', 'h264', 'vp8', 'flv'], dtype=object)"
            ]
          },
          "metadata": {
            "tags": []
          },
          "execution_count": 21
        }
      ]
    },
    {
      "cell_type": "code",
      "metadata": {
        "colab": {
          "base_uri": "https://localhost:8080/"
        },
        "id": "XUUJa9f25Gy-",
        "outputId": "11a54838-5d7f-49cf-8c89-d8f732d20b8d"
      },
      "source": [
        "(df_video['o_codec']==df_video['codec']).sum()"
      ],
      "execution_count": 22,
      "outputs": [
        {
          "output_type": "execute_result",
          "data": {
            "text/plain": [
              "17283"
            ]
          },
          "metadata": {
            "tags": []
          },
          "execution_count": 22
        }
      ]
    },
    {
      "cell_type": "code",
      "metadata": {
        "colab": {
          "base_uri": "https://localhost:8080/",
          "height": 204
        },
        "id": "aLyv9mhWyYAS",
        "outputId": "5c5e33d1-43e6-4620-ca72-fc35864b36fd"
      },
      "source": [
        "df_video.tail()"
      ],
      "execution_count": null,
      "outputs": [
        {
          "output_type": "execute_result",
          "data": {
            "text/html": [
              "<div>\n",
              "<style scoped>\n",
              "    .dataframe tbody tr th:only-of-type {\n",
              "        vertical-align: middle;\n",
              "    }\n",
              "\n",
              "    .dataframe tbody tr th {\n",
              "        vertical-align: top;\n",
              "    }\n",
              "\n",
              "    .dataframe thead th {\n",
              "        text-align: right;\n",
              "    }\n",
              "</style>\n",
              "<table border=\"1\" class=\"dataframe\">\n",
              "  <thead>\n",
              "    <tr style=\"text-align: right;\">\n",
              "      <th></th>\n",
              "      <th>id</th>\n",
              "      <th>duration</th>\n",
              "      <th>codec</th>\n",
              "      <th>width</th>\n",
              "      <th>height</th>\n",
              "      <th>bitrate</th>\n",
              "      <th>framerate</th>\n",
              "      <th>i</th>\n",
              "      <th>p</th>\n",
              "      <th>b</th>\n",
              "      <th>frames</th>\n",
              "      <th>i_size</th>\n",
              "      <th>p_size</th>\n",
              "      <th>b_size</th>\n",
              "      <th>size</th>\n",
              "      <th>o_codec</th>\n",
              "      <th>o_bitrate</th>\n",
              "      <th>o_framerate</th>\n",
              "      <th>o_width</th>\n",
              "      <th>o_height</th>\n",
              "      <th>umem</th>\n",
              "      <th>utime</th>\n",
              "    </tr>\n",
              "  </thead>\n",
              "  <tbody>\n",
              "    <tr>\n",
              "      <th>68779</th>\n",
              "      <td>ZWEN-71BqPs</td>\n",
              "      <td>972.27100</td>\n",
              "      <td>h264</td>\n",
              "      <td>480</td>\n",
              "      <td>360</td>\n",
              "      <td>278822</td>\n",
              "      <td>29.000000</td>\n",
              "      <td>560</td>\n",
              "      <td>28580</td>\n",
              "      <td>0</td>\n",
              "      <td>29140</td>\n",
              "      <td>7324628</td>\n",
              "      <td>26561730</td>\n",
              "      <td>0</td>\n",
              "      <td>33886358</td>\n",
              "      <td>flv</td>\n",
              "      <td>242000</td>\n",
              "      <td>24.00</td>\n",
              "      <td>640</td>\n",
              "      <td>480</td>\n",
              "      <td>88692</td>\n",
              "      <td>1.552</td>\n",
              "    </tr>\n",
              "    <tr>\n",
              "      <th>68780</th>\n",
              "      <td>zWQN-bqqg0o</td>\n",
              "      <td>129.88100</td>\n",
              "      <td>vp8</td>\n",
              "      <td>640</td>\n",
              "      <td>480</td>\n",
              "      <td>639331</td>\n",
              "      <td>30.162790</td>\n",
              "      <td>36</td>\n",
              "      <td>3855</td>\n",
              "      <td>0</td>\n",
              "      <td>3891</td>\n",
              "      <td>875784</td>\n",
              "      <td>9503846</td>\n",
              "      <td>0</td>\n",
              "      <td>10379630</td>\n",
              "      <td>mpeg4</td>\n",
              "      <td>539000</td>\n",
              "      <td>29.97</td>\n",
              "      <td>1920</td>\n",
              "      <td>1080</td>\n",
              "      <td>107524</td>\n",
              "      <td>18.557</td>\n",
              "    </tr>\n",
              "    <tr>\n",
              "      <th>68781</th>\n",
              "      <td>zX17-vi0sqQ</td>\n",
              "      <td>249.68000</td>\n",
              "      <td>vp8</td>\n",
              "      <td>320</td>\n",
              "      <td>240</td>\n",
              "      <td>359345</td>\n",
              "      <td>25.068274</td>\n",
              "      <td>129</td>\n",
              "      <td>6113</td>\n",
              "      <td>0</td>\n",
              "      <td>6242</td>\n",
              "      <td>1758664</td>\n",
              "      <td>9456514</td>\n",
              "      <td>0</td>\n",
              "      <td>11215178</td>\n",
              "      <td>flv</td>\n",
              "      <td>539000</td>\n",
              "      <td>12.00</td>\n",
              "      <td>176</td>\n",
              "      <td>144</td>\n",
              "      <td>88708</td>\n",
              "      <td>0.752</td>\n",
              "    </tr>\n",
              "    <tr>\n",
              "      <th>68782</th>\n",
              "      <td>zyiT-TzxIpk</td>\n",
              "      <td>183.62334</td>\n",
              "      <td>h264</td>\n",
              "      <td>1280</td>\n",
              "      <td>720</td>\n",
              "      <td>2847539</td>\n",
              "      <td>29.000000</td>\n",
              "      <td>98</td>\n",
              "      <td>5405</td>\n",
              "      <td>0</td>\n",
              "      <td>5503</td>\n",
              "      <td>5246294</td>\n",
              "      <td>60113035</td>\n",
              "      <td>0</td>\n",
              "      <td>65359329</td>\n",
              "      <td>mpeg4</td>\n",
              "      <td>539000</td>\n",
              "      <td>12.00</td>\n",
              "      <td>320</td>\n",
              "      <td>240</td>\n",
              "      <td>88724</td>\n",
              "      <td>5.444</td>\n",
              "    </tr>\n",
              "    <tr>\n",
              "      <th>68783</th>\n",
              "      <td>zZKo-QsY86U</td>\n",
              "      <td>294.61334</td>\n",
              "      <td>mpeg4</td>\n",
              "      <td>176</td>\n",
              "      <td>144</td>\n",
              "      <td>55242</td>\n",
              "      <td>12.000000</td>\n",
              "      <td>61</td>\n",
              "      <td>3474</td>\n",
              "      <td>0</td>\n",
              "      <td>3535</td>\n",
              "      <td>84002</td>\n",
              "      <td>1950409</td>\n",
              "      <td>0</td>\n",
              "      <td>2034411</td>\n",
              "      <td>h264</td>\n",
              "      <td>820000</td>\n",
              "      <td>24.00</td>\n",
              "      <td>176</td>\n",
              "      <td>144</td>\n",
              "      <td>88736</td>\n",
              "      <td>3.076</td>\n",
              "    </tr>\n",
              "  </tbody>\n",
              "</table>\n",
              "</div>"
            ],
            "text/plain": [
              "                id   duration  codec  width  ...  o_width  o_height    umem   utime\n",
              "68779  ZWEN-71BqPs  972.27100   h264    480  ...      640       480   88692   1.552\n",
              "68780  zWQN-bqqg0o  129.88100    vp8    640  ...     1920      1080  107524  18.557\n",
              "68781  zX17-vi0sqQ  249.68000    vp8    320  ...      176       144   88708   0.752\n",
              "68782  zyiT-TzxIpk  183.62334   h264   1280  ...      320       240   88724   5.444\n",
              "68783  zZKo-QsY86U  294.61334  mpeg4    176  ...      176       144   88736   3.076\n",
              "\n",
              "[5 rows x 22 columns]"
            ]
          },
          "metadata": {
            "tags": []
          },
          "execution_count": 9
        }
      ]
    },
    {
      "cell_type": "markdown",
      "metadata": {
        "id": "2hg__Ffez_Xt"
      },
      "source": [
        "Q1"
      ]
    },
    {
      "cell_type": "code",
      "metadata": {
        "colab": {
          "base_uri": "https://localhost:8080/",
          "height": 427
        },
        "id": "gklDnggY6B6P",
        "outputId": "e7baf717-dd63-4107-bec5-f0883004b870"
      },
      "source": [
        "df_video = df_video.drop(['id', 'b_size', 'umem'], axis = 1)\n",
        "df_video"
      ],
      "execution_count": 23,
      "outputs": [
        {
          "output_type": "execute_result",
          "data": {
            "text/html": [
              "<div>\n",
              "<style scoped>\n",
              "    .dataframe tbody tr th:only-of-type {\n",
              "        vertical-align: middle;\n",
              "    }\n",
              "\n",
              "    .dataframe tbody tr th {\n",
              "        vertical-align: top;\n",
              "    }\n",
              "\n",
              "    .dataframe thead th {\n",
              "        text-align: right;\n",
              "    }\n",
              "</style>\n",
              "<table border=\"1\" class=\"dataframe\">\n",
              "  <thead>\n",
              "    <tr style=\"text-align: right;\">\n",
              "      <th></th>\n",
              "      <th>duration</th>\n",
              "      <th>codec</th>\n",
              "      <th>width</th>\n",
              "      <th>height</th>\n",
              "      <th>bitrate</th>\n",
              "      <th>framerate</th>\n",
              "      <th>i</th>\n",
              "      <th>p</th>\n",
              "      <th>b</th>\n",
              "      <th>frames</th>\n",
              "      <th>i_size</th>\n",
              "      <th>p_size</th>\n",
              "      <th>size</th>\n",
              "      <th>o_codec</th>\n",
              "      <th>o_bitrate</th>\n",
              "      <th>o_framerate</th>\n",
              "      <th>o_width</th>\n",
              "      <th>o_height</th>\n",
              "      <th>utime</th>\n",
              "    </tr>\n",
              "  </thead>\n",
              "  <tbody>\n",
              "    <tr>\n",
              "      <th>0</th>\n",
              "      <td>130.35667</td>\n",
              "      <td>mpeg4</td>\n",
              "      <td>176</td>\n",
              "      <td>144</td>\n",
              "      <td>54590</td>\n",
              "      <td>12.000000</td>\n",
              "      <td>27</td>\n",
              "      <td>1537</td>\n",
              "      <td>0</td>\n",
              "      <td>1564</td>\n",
              "      <td>64483</td>\n",
              "      <td>825054</td>\n",
              "      <td>889537</td>\n",
              "      <td>mpeg4</td>\n",
              "      <td>56000</td>\n",
              "      <td>12.00</td>\n",
              "      <td>176</td>\n",
              "      <td>144</td>\n",
              "      <td>0.612</td>\n",
              "    </tr>\n",
              "    <tr>\n",
              "      <th>1</th>\n",
              "      <td>130.35667</td>\n",
              "      <td>mpeg4</td>\n",
              "      <td>176</td>\n",
              "      <td>144</td>\n",
              "      <td>54590</td>\n",
              "      <td>12.000000</td>\n",
              "      <td>27</td>\n",
              "      <td>1537</td>\n",
              "      <td>0</td>\n",
              "      <td>1564</td>\n",
              "      <td>64483</td>\n",
              "      <td>825054</td>\n",
              "      <td>889537</td>\n",
              "      <td>mpeg4</td>\n",
              "      <td>56000</td>\n",
              "      <td>12.00</td>\n",
              "      <td>320</td>\n",
              "      <td>240</td>\n",
              "      <td>0.980</td>\n",
              "    </tr>\n",
              "    <tr>\n",
              "      <th>2</th>\n",
              "      <td>130.35667</td>\n",
              "      <td>mpeg4</td>\n",
              "      <td>176</td>\n",
              "      <td>144</td>\n",
              "      <td>54590</td>\n",
              "      <td>12.000000</td>\n",
              "      <td>27</td>\n",
              "      <td>1537</td>\n",
              "      <td>0</td>\n",
              "      <td>1564</td>\n",
              "      <td>64483</td>\n",
              "      <td>825054</td>\n",
              "      <td>889537</td>\n",
              "      <td>mpeg4</td>\n",
              "      <td>56000</td>\n",
              "      <td>12.00</td>\n",
              "      <td>480</td>\n",
              "      <td>360</td>\n",
              "      <td>1.216</td>\n",
              "    </tr>\n",
              "    <tr>\n",
              "      <th>3</th>\n",
              "      <td>130.35667</td>\n",
              "      <td>mpeg4</td>\n",
              "      <td>176</td>\n",
              "      <td>144</td>\n",
              "      <td>54590</td>\n",
              "      <td>12.000000</td>\n",
              "      <td>27</td>\n",
              "      <td>1537</td>\n",
              "      <td>0</td>\n",
              "      <td>1564</td>\n",
              "      <td>64483</td>\n",
              "      <td>825054</td>\n",
              "      <td>889537</td>\n",
              "      <td>mpeg4</td>\n",
              "      <td>56000</td>\n",
              "      <td>12.00</td>\n",
              "      <td>640</td>\n",
              "      <td>480</td>\n",
              "      <td>1.692</td>\n",
              "    </tr>\n",
              "    <tr>\n",
              "      <th>4</th>\n",
              "      <td>130.35667</td>\n",
              "      <td>mpeg4</td>\n",
              "      <td>176</td>\n",
              "      <td>144</td>\n",
              "      <td>54590</td>\n",
              "      <td>12.000000</td>\n",
              "      <td>27</td>\n",
              "      <td>1537</td>\n",
              "      <td>0</td>\n",
              "      <td>1564</td>\n",
              "      <td>64483</td>\n",
              "      <td>825054</td>\n",
              "      <td>889537</td>\n",
              "      <td>mpeg4</td>\n",
              "      <td>56000</td>\n",
              "      <td>12.00</td>\n",
              "      <td>1280</td>\n",
              "      <td>720</td>\n",
              "      <td>3.456</td>\n",
              "    </tr>\n",
              "    <tr>\n",
              "      <th>...</th>\n",
              "      <td>...</td>\n",
              "      <td>...</td>\n",
              "      <td>...</td>\n",
              "      <td>...</td>\n",
              "      <td>...</td>\n",
              "      <td>...</td>\n",
              "      <td>...</td>\n",
              "      <td>...</td>\n",
              "      <td>...</td>\n",
              "      <td>...</td>\n",
              "      <td>...</td>\n",
              "      <td>...</td>\n",
              "      <td>...</td>\n",
              "      <td>...</td>\n",
              "      <td>...</td>\n",
              "      <td>...</td>\n",
              "      <td>...</td>\n",
              "      <td>...</td>\n",
              "      <td>...</td>\n",
              "    </tr>\n",
              "    <tr>\n",
              "      <th>68779</th>\n",
              "      <td>972.27100</td>\n",
              "      <td>h264</td>\n",
              "      <td>480</td>\n",
              "      <td>360</td>\n",
              "      <td>278822</td>\n",
              "      <td>29.000000</td>\n",
              "      <td>560</td>\n",
              "      <td>28580</td>\n",
              "      <td>0</td>\n",
              "      <td>29140</td>\n",
              "      <td>7324628</td>\n",
              "      <td>26561730</td>\n",
              "      <td>33886358</td>\n",
              "      <td>flv</td>\n",
              "      <td>242000</td>\n",
              "      <td>24.00</td>\n",
              "      <td>640</td>\n",
              "      <td>480</td>\n",
              "      <td>1.552</td>\n",
              "    </tr>\n",
              "    <tr>\n",
              "      <th>68780</th>\n",
              "      <td>129.88100</td>\n",
              "      <td>vp8</td>\n",
              "      <td>640</td>\n",
              "      <td>480</td>\n",
              "      <td>639331</td>\n",
              "      <td>30.162790</td>\n",
              "      <td>36</td>\n",
              "      <td>3855</td>\n",
              "      <td>0</td>\n",
              "      <td>3891</td>\n",
              "      <td>875784</td>\n",
              "      <td>9503846</td>\n",
              "      <td>10379630</td>\n",
              "      <td>mpeg4</td>\n",
              "      <td>539000</td>\n",
              "      <td>29.97</td>\n",
              "      <td>1920</td>\n",
              "      <td>1080</td>\n",
              "      <td>18.557</td>\n",
              "    </tr>\n",
              "    <tr>\n",
              "      <th>68781</th>\n",
              "      <td>249.68000</td>\n",
              "      <td>vp8</td>\n",
              "      <td>320</td>\n",
              "      <td>240</td>\n",
              "      <td>359345</td>\n",
              "      <td>25.068274</td>\n",
              "      <td>129</td>\n",
              "      <td>6113</td>\n",
              "      <td>0</td>\n",
              "      <td>6242</td>\n",
              "      <td>1758664</td>\n",
              "      <td>9456514</td>\n",
              "      <td>11215178</td>\n",
              "      <td>flv</td>\n",
              "      <td>539000</td>\n",
              "      <td>12.00</td>\n",
              "      <td>176</td>\n",
              "      <td>144</td>\n",
              "      <td>0.752</td>\n",
              "    </tr>\n",
              "    <tr>\n",
              "      <th>68782</th>\n",
              "      <td>183.62334</td>\n",
              "      <td>h264</td>\n",
              "      <td>1280</td>\n",
              "      <td>720</td>\n",
              "      <td>2847539</td>\n",
              "      <td>29.000000</td>\n",
              "      <td>98</td>\n",
              "      <td>5405</td>\n",
              "      <td>0</td>\n",
              "      <td>5503</td>\n",
              "      <td>5246294</td>\n",
              "      <td>60113035</td>\n",
              "      <td>65359329</td>\n",
              "      <td>mpeg4</td>\n",
              "      <td>539000</td>\n",
              "      <td>12.00</td>\n",
              "      <td>320</td>\n",
              "      <td>240</td>\n",
              "      <td>5.444</td>\n",
              "    </tr>\n",
              "    <tr>\n",
              "      <th>68783</th>\n",
              "      <td>294.61334</td>\n",
              "      <td>mpeg4</td>\n",
              "      <td>176</td>\n",
              "      <td>144</td>\n",
              "      <td>55242</td>\n",
              "      <td>12.000000</td>\n",
              "      <td>61</td>\n",
              "      <td>3474</td>\n",
              "      <td>0</td>\n",
              "      <td>3535</td>\n",
              "      <td>84002</td>\n",
              "      <td>1950409</td>\n",
              "      <td>2034411</td>\n",
              "      <td>h264</td>\n",
              "      <td>820000</td>\n",
              "      <td>24.00</td>\n",
              "      <td>176</td>\n",
              "      <td>144</td>\n",
              "      <td>3.076</td>\n",
              "    </tr>\n",
              "  </tbody>\n",
              "</table>\n",
              "<p>68784 rows × 19 columns</p>\n",
              "</div>"
            ],
            "text/plain": [
              "        duration  codec  width  height  ...  o_framerate  o_width  o_height   utime\n",
              "0      130.35667  mpeg4    176     144  ...        12.00      176       144   0.612\n",
              "1      130.35667  mpeg4    176     144  ...        12.00      320       240   0.980\n",
              "2      130.35667  mpeg4    176     144  ...        12.00      480       360   1.216\n",
              "3      130.35667  mpeg4    176     144  ...        12.00      640       480   1.692\n",
              "4      130.35667  mpeg4    176     144  ...        12.00     1280       720   3.456\n",
              "...          ...    ...    ...     ...  ...          ...      ...       ...     ...\n",
              "68779  972.27100   h264    480     360  ...        24.00      640       480   1.552\n",
              "68780  129.88100    vp8    640     480  ...        29.97     1920      1080  18.557\n",
              "68781  249.68000    vp8    320     240  ...        12.00      176       144   0.752\n",
              "68782  183.62334   h264   1280     720  ...        12.00      320       240   5.444\n",
              "68783  294.61334  mpeg4    176     144  ...        24.00      176       144   3.076\n",
              "\n",
              "[68784 rows x 19 columns]"
            ]
          },
          "metadata": {
            "tags": []
          },
          "execution_count": 23
        }
      ]
    },
    {
      "cell_type": "code",
      "metadata": {
        "colab": {
          "base_uri": "https://localhost:8080/",
          "height": 864
        },
        "id": "2iJ9BPvIz_28",
        "outputId": "d8595f56-23c8-4bcd-844d-a3244445f49b"
      },
      "source": [
        "plt.figure(figsize = (14, 14))\n",
        "heatmap_video = sns.heatmap(df_video.corr(method = \"pearson\"), annot = True)\n",
        "plt.show()"
      ],
      "execution_count": null,
      "outputs": [
        {
          "output_type": "display_data",
          "data": {
            "image/png": "[encoded data removed]",
            "text/plain": [
              "<Figure size 1008x1008 with 2 Axes>"
            ]
          },
          "metadata": {
            "tags": [],
            "needs_background": "light"
          }
        }
      ]
    },
    {
      "cell_type": "markdown",
      "metadata": {
        "id": "wj_zP2Vq3uSI"
      },
      "source": [
        "Q2"
      ]
    },
    {
      "cell_type": "code",
      "metadata": {
        "id": "lcpxJkvS3u05",
        "colab": {
          "base_uri": "https://localhost:8080/",
          "height": 1000
        },
        "outputId": "bb2a03df-a7c9-4165-cb89-cf2e952194d3"
      },
      "source": [
        "numerical_features_video = ['duration','width',\t'height',\t'bitrate'\t,'framerate','i','p',\t'b',\t'frames',\t'i_size',\t'p_size',\t'size','o_bitrate', 'o_framerate', 'o_width', 'o_height', 'utime']\n",
        "df_video.hist(column = numerical_features_video, figsize = (14, 14), grid = False, bins = 20)"
      ],
      "execution_count": 4,
      "outputs": [
        {
          "output_type": "execute_result",
          "data": {
            "text/plain": [
              "array([[<matplotlib.axes._subplots.AxesSubplot object at 0x7f3cf76d0950>,\n",
              "        <matplotlib.axes._subplots.AxesSubplot object at 0x7f3cf769fb10>,\n",
              "        <matplotlib.axes._subplots.AxesSubplot object at 0x7f3cf75f0690>,\n",
              "        <matplotlib.axes._subplots.AxesSubplot object at 0x7f3cf7622d10>],\n",
              "       [<matplotlib.axes._subplots.AxesSubplot object at 0x7f3cf75663d0>,\n",
              "        <matplotlib.axes._subplots.AxesSubplot object at 0x7f3cf759da50>,\n",
              "        <matplotlib.axes._subplots.AxesSubplot object at 0x7f3cf755f190>,\n",
              "        <matplotlib.axes._subplots.AxesSubplot object at 0x7f3cf7513750>],\n",
              "       [<matplotlib.axes._subplots.AxesSubplot object at 0x7f3cf7513790>,\n",
              "        <matplotlib.axes._subplots.AxesSubplot object at 0x7f3cf74c9f10>,\n",
              "        <matplotlib.axes._subplots.AxesSubplot object at 0x7f3cf743fb50>,\n",
              "        <matplotlib.axes._subplots.AxesSubplot object at 0x7f3cf7401210>],\n",
              "       [<matplotlib.axes._subplots.AxesSubplot object at 0x7f3cf73b8890>,\n",
              "        <matplotlib.axes._subplots.AxesSubplot object at 0x7f3cf736df10>,\n",
              "        <matplotlib.axes._subplots.AxesSubplot object at 0x7f3cf73305d0>,\n",
              "        <matplotlib.axes._subplots.AxesSubplot object at 0x7f3cf7363c50>],\n",
              "       [<matplotlib.axes._subplots.AxesSubplot object at 0x7f3cf7325310>,\n",
              "        <matplotlib.axes._subplots.AxesSubplot object at 0x7f3cf72da990>,\n",
              "        <matplotlib.axes._subplots.AxesSubplot object at 0x7f3cf7290fd0>,\n",
              "        <matplotlib.axes._subplots.AxesSubplot object at 0x7f3cf72546d0>]],\n",
              "      dtype=object)"
            ]
          },
          "metadata": {
            "tags": []
          },
          "execution_count": 4
        },
        {
          "output_type": "display_data",
          "data": {
            "image/png": "[encoded data removed]",
            "text/plain": [
              "<Figure size 1008x1008 with 20 Axes>"
            ]
          },
          "metadata": {
            "tags": [],
            "needs_background": "light"
          }
        }
      ]
    },
    {
      "cell_type": "markdown",
      "metadata": {
        "id": "t09IQ2E7--Ie"
      },
      "source": [
        "Q3"
      ]
    },
    {
      "cell_type": "code",
      "metadata": {
        "colab": {
          "base_uri": "https://localhost:8080/",
          "height": 911
        },
        "id": "9g8uf2Io--yd",
        "outputId": "a10a6bb2-672b-4387-f86d-9f419af8ebd0"
      },
      "source": [
        "categorical_features_video = ['codec', 'o_codec']\n",
        "target_variable_video = ['utime']\n",
        "\n",
        "for feature in categorical_features_video:\n",
        "  for target in target_variable_video:\n",
        "    df_video.boxplot(column = target,figsize=(6,6),by = feature, grid = False)"
      ],
      "execution_count": 5,
      "outputs": [
        {
          "output_type": "stream",
          "text": [
            "/usr/local/lib/python3.7/dist-packages/numpy/core/_asarray.py:83: VisibleDeprecationWarning: Creating an ndarray from ragged nested sequences (which is a list-or-tuple of lists-or-tuples-or ndarrays with different lengths or shapes) is deprecated. If you meant to do this, you must specify 'dtype=object' when creating the ndarray\n",
            "  return array(a, dtype, copy=False, order=order)\n",
            "/usr/local/lib/python3.7/dist-packages/numpy/core/_asarray.py:83: VisibleDeprecationWarning: Creating an ndarray from ragged nested sequences (which is a list-or-tuple of lists-or-tuples-or ndarrays with different lengths or shapes) is deprecated. If you meant to do this, you must specify 'dtype=object' when creating the ndarray\n",
            "  return array(a, dtype, copy=False, order=order)\n"
          ],
          "name": "stderr"
        },
        {
          "output_type": "display_data",
          "data": {
            "image/png": "[encoded data removed]",
            "text/plain": [
              "<Figure size 432x432 with 1 Axes>"
            ]
          },
          "metadata": {
            "tags": [],
            "needs_background": "light"
          }
        },
        {
          "output_type": "display_data",
          "data": {
            "image/png": "[encoded data removed]",
            "text/plain": [
              "<Figure size 432x432 with 1 Axes>"
            ]
          },
          "metadata": {
            "tags": [],
            "needs_background": "light"
          }
        }
      ]
    },
    {
      "cell_type": "markdown",
      "metadata": {
        "id": "1CoSPcry_CXp"
      },
      "source": [
        "Q6"
      ]
    },
    {
      "cell_type": "code",
      "metadata": {
        "colab": {
          "base_uri": "https://localhost:8080/",
          "height": 298
        },
        "id": "hwVI22a3_DJD",
        "outputId": "3d303695-c79f-43eb-c043-21d79ee0c062"
      },
      "source": [
        "plt.hist(df_video['utime'])\n",
        "print('The mean of transcoding times is: ' + str(np.mean(df_video['utime'])))\n",
        "print('The median of transoding times is: ' + str(np.median(df_video['utime'])))"
      ],
      "execution_count": 6,
      "outputs": [
        {
          "output_type": "stream",
          "text": [
            "The mean of transcoding times is: 9.996354820888516\n",
            "The median of transoding times is: 4.408\n"
          ],
          "name": "stdout"
        },
        {
          "output_type": "display_data",
          "data": {
            "image/png": "[encoded data removed]",
            "text/plain": [
              "<Figure size 432x288 with 1 Axes>"
            ]
          },
          "metadata": {
            "tags": [],
            "needs_background": "light"
          }
        }
      ]
    },
    {
      "cell_type": "markdown",
      "metadata": {
        "id": "kDZeBsRvEcms"
      },
      "source": [
        "Q7"
      ]
    },
    {
      "cell_type": "code",
      "metadata": {
        "colab": {
          "base_uri": "https://localhost:8080/",
          "height": 427
        },
        "id": "CQOcak1SEewG",
        "outputId": "fb20d536-c775-4316-be35-02d313fde879"
      },
      "source": [
        "df_video"
      ],
      "execution_count": 24,
      "outputs": [
        {
          "output_type": "execute_result",
          "data": {
            "text/html": [
              "<div>\n",
              "<style scoped>\n",
              "    .dataframe tbody tr th:only-of-type {\n",
              "        vertical-align: middle;\n",
              "    }\n",
              "\n",
              "    .dataframe tbody tr th {\n",
              "        vertical-align: top;\n",
              "    }\n",
              "\n",
              "    .dataframe thead th {\n",
              "        text-align: right;\n",
              "    }\n",
              "</style>\n",
              "<table border=\"1\" class=\"dataframe\">\n",
              "  <thead>\n",
              "    <tr style=\"text-align: right;\">\n",
              "      <th></th>\n",
              "      <th>duration</th>\n",
              "      <th>codec</th>\n",
              "      <th>width</th>\n",
              "      <th>height</th>\n",
              "      <th>bitrate</th>\n",
              "      <th>framerate</th>\n",
              "      <th>i</th>\n",
              "      <th>p</th>\n",
              "      <th>b</th>\n",
              "      <th>frames</th>\n",
              "      <th>i_size</th>\n",
              "      <th>p_size</th>\n",
              "      <th>size</th>\n",
              "      <th>o_codec</th>\n",
              "      <th>o_bitrate</th>\n",
              "      <th>o_framerate</th>\n",
              "      <th>o_width</th>\n",
              "      <th>o_height</th>\n",
              "      <th>utime</th>\n",
              "    </tr>\n",
              "  </thead>\n",
              "  <tbody>\n",
              "    <tr>\n",
              "      <th>0</th>\n",
              "      <td>130.35667</td>\n",
              "      <td>mpeg4</td>\n",
              "      <td>176</td>\n",
              "      <td>144</td>\n",
              "      <td>54590</td>\n",
              "      <td>12.000000</td>\n",
              "      <td>27</td>\n",
              "      <td>1537</td>\n",
              "      <td>0</td>\n",
              "      <td>1564</td>\n",
              "      <td>64483</td>\n",
              "      <td>825054</td>\n",
              "      <td>889537</td>\n",
              "      <td>mpeg4</td>\n",
              "      <td>56000</td>\n",
              "      <td>12.00</td>\n",
              "      <td>176</td>\n",
              "      <td>144</td>\n",
              "      <td>0.612</td>\n",
              "    </tr>\n",
              "    <tr>\n",
              "      <th>1</th>\n",
              "      <td>130.35667</td>\n",
              "      <td>mpeg4</td>\n",
              "      <td>176</td>\n",
              "      <td>144</td>\n",
              "      <td>54590</td>\n",
              "      <td>12.000000</td>\n",
              "      <td>27</td>\n",
              "      <td>1537</td>\n",
              "      <td>0</td>\n",
              "      <td>1564</td>\n",
              "      <td>64483</td>\n",
              "      <td>825054</td>\n",
              "      <td>889537</td>\n",
              "      <td>mpeg4</td>\n",
              "      <td>56000</td>\n",
              "      <td>12.00</td>\n",
              "      <td>320</td>\n",
              "      <td>240</td>\n",
              "      <td>0.980</td>\n",
              "    </tr>\n",
              "    <tr>\n",
              "      <th>2</th>\n",
              "      <td>130.35667</td>\n",
              "      <td>mpeg4</td>\n",
              "      <td>176</td>\n",
              "      <td>144</td>\n",
              "      <td>54590</td>\n",
              "      <td>12.000000</td>\n",
              "      <td>27</td>\n",
              "      <td>1537</td>\n",
              "      <td>0</td>\n",
              "      <td>1564</td>\n",
              "      <td>64483</td>\n",
              "      <td>825054</td>\n",
              "      <td>889537</td>\n",
              "      <td>mpeg4</td>\n",
              "      <td>56000</td>\n",
              "      <td>12.00</td>\n",
              "      <td>480</td>\n",
              "      <td>360</td>\n",
              "      <td>1.216</td>\n",
              "    </tr>\n",
              "    <tr>\n",
              "      <th>3</th>\n",
              "      <td>130.35667</td>\n",
              "      <td>mpeg4</td>\n",
              "      <td>176</td>\n",
              "      <td>144</td>\n",
              "      <td>54590</td>\n",
              "      <td>12.000000</td>\n",
              "      <td>27</td>\n",
              "      <td>1537</td>\n",
              "      <td>0</td>\n",
              "      <td>1564</td>\n",
              "      <td>64483</td>\n",
              "      <td>825054</td>\n",
              "      <td>889537</td>\n",
              "      <td>mpeg4</td>\n",
              "      <td>56000</td>\n",
              "      <td>12.00</td>\n",
              "      <td>640</td>\n",
              "      <td>480</td>\n",
              "      <td>1.692</td>\n",
              "    </tr>\n",
              "    <tr>\n",
              "      <th>4</th>\n",
              "      <td>130.35667</td>\n",
              "      <td>mpeg4</td>\n",
              "      <td>176</td>\n",
              "      <td>144</td>\n",
              "      <td>54590</td>\n",
              "      <td>12.000000</td>\n",
              "      <td>27</td>\n",
              "      <td>1537</td>\n",
              "      <td>0</td>\n",
              "      <td>1564</td>\n",
              "      <td>64483</td>\n",
              "      <td>825054</td>\n",
              "      <td>889537</td>\n",
              "      <td>mpeg4</td>\n",
              "      <td>56000</td>\n",
              "      <td>12.00</td>\n",
              "      <td>1280</td>\n",
              "      <td>720</td>\n",
              "      <td>3.456</td>\n",
              "    </tr>\n",
              "    <tr>\n",
              "      <th>...</th>\n",
              "      <td>...</td>\n",
              "      <td>...</td>\n",
              "      <td>...</td>\n",
              "      <td>...</td>\n",
              "      <td>...</td>\n",
              "      <td>...</td>\n",
              "      <td>...</td>\n",
              "      <td>...</td>\n",
              "      <td>...</td>\n",
              "      <td>...</td>\n",
              "      <td>...</td>\n",
              "      <td>...</td>\n",
              "      <td>...</td>\n",
              "      <td>...</td>\n",
              "      <td>...</td>\n",
              "      <td>...</td>\n",
              "      <td>...</td>\n",
              "      <td>...</td>\n",
              "      <td>...</td>\n",
              "    </tr>\n",
              "    <tr>\n",
              "      <th>68779</th>\n",
              "      <td>972.27100</td>\n",
              "      <td>h264</td>\n",
              "      <td>480</td>\n",
              "      <td>360</td>\n",
              "      <td>278822</td>\n",
              "      <td>29.000000</td>\n",
              "      <td>560</td>\n",
              "      <td>28580</td>\n",
              "      <td>0</td>\n",
              "      <td>29140</td>\n",
              "      <td>7324628</td>\n",
              "      <td>26561730</td>\n",
              "      <td>33886358</td>\n",
              "      <td>flv</td>\n",
              "      <td>242000</td>\n",
              "      <td>24.00</td>\n",
              "      <td>640</td>\n",
              "      <td>480</td>\n",
              "      <td>1.552</td>\n",
              "    </tr>\n",
              "    <tr>\n",
              "      <th>68780</th>\n",
              "      <td>129.88100</td>\n",
              "      <td>vp8</td>\n",
              "      <td>640</td>\n",
              "      <td>480</td>\n",
              "      <td>639331</td>\n",
              "      <td>30.162790</td>\n",
              "      <td>36</td>\n",
              "      <td>3855</td>\n",
              "      <td>0</td>\n",
              "      <td>3891</td>\n",
              "      <td>875784</td>\n",
              "      <td>9503846</td>\n",
              "      <td>10379630</td>\n",
              "      <td>mpeg4</td>\n",
              "      <td>539000</td>\n",
              "      <td>29.97</td>\n",
              "      <td>1920</td>\n",
              "      <td>1080</td>\n",
              "      <td>18.557</td>\n",
              "    </tr>\n",
              "    <tr>\n",
              "      <th>68781</th>\n",
              "      <td>249.68000</td>\n",
              "      <td>vp8</td>\n",
              "      <td>320</td>\n",
              "      <td>240</td>\n",
              "      <td>359345</td>\n",
              "      <td>25.068274</td>\n",
              "      <td>129</td>\n",
              "      <td>6113</td>\n",
              "      <td>0</td>\n",
              "      <td>6242</td>\n",
              "      <td>1758664</td>\n",
              "      <td>9456514</td>\n",
              "      <td>11215178</td>\n",
              "      <td>flv</td>\n",
              "      <td>539000</td>\n",
              "      <td>12.00</td>\n",
              "      <td>176</td>\n",
              "      <td>144</td>\n",
              "      <td>0.752</td>\n",
              "    </tr>\n",
              "    <tr>\n",
              "      <th>68782</th>\n",
              "      <td>183.62334</td>\n",
              "      <td>h264</td>\n",
              "      <td>1280</td>\n",
              "      <td>720</td>\n",
              "      <td>2847539</td>\n",
              "      <td>29.000000</td>\n",
              "      <td>98</td>\n",
              "      <td>5405</td>\n",
              "      <td>0</td>\n",
              "      <td>5503</td>\n",
              "      <td>5246294</td>\n",
              "      <td>60113035</td>\n",
              "      <td>65359329</td>\n",
              "      <td>mpeg4</td>\n",
              "      <td>539000</td>\n",
              "      <td>12.00</td>\n",
              "      <td>320</td>\n",
              "      <td>240</td>\n",
              "      <td>5.444</td>\n",
              "    </tr>\n",
              "    <tr>\n",
              "      <th>68783</th>\n",
              "      <td>294.61334</td>\n",
              "      <td>mpeg4</td>\n",
              "      <td>176</td>\n",
              "      <td>144</td>\n",
              "      <td>55242</td>\n",
              "      <td>12.000000</td>\n",
              "      <td>61</td>\n",
              "      <td>3474</td>\n",
              "      <td>0</td>\n",
              "      <td>3535</td>\n",
              "      <td>84002</td>\n",
              "      <td>1950409</td>\n",
              "      <td>2034411</td>\n",
              "      <td>h264</td>\n",
              "      <td>820000</td>\n",
              "      <td>24.00</td>\n",
              "      <td>176</td>\n",
              "      <td>144</td>\n",
              "      <td>3.076</td>\n",
              "    </tr>\n",
              "  </tbody>\n",
              "</table>\n",
              "<p>68784 rows × 19 columns</p>\n",
              "</div>"
            ],
            "text/plain": [
              "        duration  codec  width  height  ...  o_framerate  o_width  o_height   utime\n",
              "0      130.35667  mpeg4    176     144  ...        12.00      176       144   0.612\n",
              "1      130.35667  mpeg4    176     144  ...        12.00      320       240   0.980\n",
              "2      130.35667  mpeg4    176     144  ...        12.00      480       360   1.216\n",
              "3      130.35667  mpeg4    176     144  ...        12.00      640       480   1.692\n",
              "4      130.35667  mpeg4    176     144  ...        12.00     1280       720   3.456\n",
              "...          ...    ...    ...     ...  ...          ...      ...       ...     ...\n",
              "68779  972.27100   h264    480     360  ...        24.00      640       480   1.552\n",
              "68780  129.88100    vp8    640     480  ...        29.97     1920      1080  18.557\n",
              "68781  249.68000    vp8    320     240  ...        12.00      176       144   0.752\n",
              "68782  183.62334   h264   1280     720  ...        12.00      320       240   5.444\n",
              "68783  294.61334  mpeg4    176     144  ...        24.00      176       144   3.076\n",
              "\n",
              "[68784 rows x 19 columns]"
            ]
          },
          "metadata": {
            "tags": []
          },
          "execution_count": 24
        }
      ]
    },
    {
      "cell_type": "code",
      "metadata": {
        "colab": {
          "base_uri": "https://localhost:8080/",
          "height": 427
        },
        "id": "vt6bjNk7EgXU",
        "outputId": "a3981b92-faa1-4465-cd85-0099d9c84e56"
      },
      "source": [
        "df_video2 = pd.get_dummies(df_video, columns=['codec', 'o_codec'])\n",
        "df_video2"
      ],
      "execution_count": 25,
      "outputs": [
        {
          "output_type": "execute_result",
          "data": {
            "text/html": [
              "<div>\n",
              "<style scoped>\n",
              "    .dataframe tbody tr th:only-of-type {\n",
              "        vertical-align: middle;\n",
              "    }\n",
              "\n",
              "    .dataframe tbody tr th {\n",
              "        vertical-align: top;\n",
              "    }\n",
              "\n",
              "    .dataframe thead th {\n",
              "        text-align: right;\n",
              "    }\n",
              "</style>\n",
              "<table border=\"1\" class=\"dataframe\">\n",
              "  <thead>\n",
              "    <tr style=\"text-align: right;\">\n",
              "      <th></th>\n",
              "      <th>duration</th>\n",
              "      <th>width</th>\n",
              "      <th>height</th>\n",
              "      <th>bitrate</th>\n",
              "      <th>framerate</th>\n",
              "      <th>i</th>\n",
              "      <th>p</th>\n",
              "      <th>b</th>\n",
              "      <th>frames</th>\n",
              "      <th>i_size</th>\n",
              "      <th>p_size</th>\n",
              "      <th>size</th>\n",
              "      <th>o_bitrate</th>\n",
              "      <th>o_framerate</th>\n",
              "      <th>o_width</th>\n",
              "      <th>o_height</th>\n",
              "      <th>utime</th>\n",
              "      <th>codec_flv</th>\n",
              "      <th>codec_h264</th>\n",
              "      <th>codec_mpeg4</th>\n",
              "      <th>codec_vp8</th>\n",
              "      <th>o_codec_flv</th>\n",
              "      <th>o_codec_h264</th>\n",
              "      <th>o_codec_mpeg4</th>\n",
              "      <th>o_codec_vp8</th>\n",
              "    </tr>\n",
              "  </thead>\n",
              "  <tbody>\n",
              "    <tr>\n",
              "      <th>0</th>\n",
              "      <td>130.35667</td>\n",
              "      <td>176</td>\n",
              "      <td>144</td>\n",
              "      <td>54590</td>\n",
              "      <td>12.000000</td>\n",
              "      <td>27</td>\n",
              "      <td>1537</td>\n",
              "      <td>0</td>\n",
              "      <td>1564</td>\n",
              "      <td>64483</td>\n",
              "      <td>825054</td>\n",
              "      <td>889537</td>\n",
              "      <td>56000</td>\n",
              "      <td>12.00</td>\n",
              "      <td>176</td>\n",
              "      <td>144</td>\n",
              "      <td>0.612</td>\n",
              "      <td>0</td>\n",
              "      <td>0</td>\n",
              "      <td>1</td>\n",
              "      <td>0</td>\n",
              "      <td>0</td>\n",
              "      <td>0</td>\n",
              "      <td>1</td>\n",
              "      <td>0</td>\n",
              "    </tr>\n",
              "    <tr>\n",
              "      <th>1</th>\n",
              "      <td>130.35667</td>\n",
              "      <td>176</td>\n",
              "      <td>144</td>\n",
              "      <td>54590</td>\n",
              "      <td>12.000000</td>\n",
              "      <td>27</td>\n",
              "      <td>1537</td>\n",
              "      <td>0</td>\n",
              "      <td>1564</td>\n",
              "      <td>64483</td>\n",
              "      <td>825054</td>\n",
              "      <td>889537</td>\n",
              "      <td>56000</td>\n",
              "      <td>12.00</td>\n",
              "      <td>320</td>\n",
              "      <td>240</td>\n",
              "      <td>0.980</td>\n",
              "      <td>0</td>\n",
              "      <td>0</td>\n",
              "      <td>1</td>\n",
              "      <td>0</td>\n",
              "      <td>0</td>\n",
              "      <td>0</td>\n",
              "      <td>1</td>\n",
              "      <td>0</td>\n",
              "    </tr>\n",
              "    <tr>\n",
              "      <th>2</th>\n",
              "      <td>130.35667</td>\n",
              "      <td>176</td>\n",
              "      <td>144</td>\n",
              "      <td>54590</td>\n",
              "      <td>12.000000</td>\n",
              "      <td>27</td>\n",
              "      <td>1537</td>\n",
              "      <td>0</td>\n",
              "      <td>1564</td>\n",
              "      <td>64483</td>\n",
              "      <td>825054</td>\n",
              "      <td>889537</td>\n",
              "      <td>56000</td>\n",
              "      <td>12.00</td>\n",
              "      <td>480</td>\n",
              "      <td>360</td>\n",
              "      <td>1.216</td>\n",
              "      <td>0</td>\n",
              "      <td>0</td>\n",
              "      <td>1</td>\n",
              "      <td>0</td>\n",
              "      <td>0</td>\n",
              "      <td>0</td>\n",
              "      <td>1</td>\n",
              "      <td>0</td>\n",
              "    </tr>\n",
              "    <tr>\n",
              "      <th>3</th>\n",
              "      <td>130.35667</td>\n",
              "      <td>176</td>\n",
              "      <td>144</td>\n",
              "      <td>54590</td>\n",
              "      <td>12.000000</td>\n",
              "      <td>27</td>\n",
              "      <td>1537</td>\n",
              "      <td>0</td>\n",
              "      <td>1564</td>\n",
              "      <td>64483</td>\n",
              "      <td>825054</td>\n",
              "      <td>889537</td>\n",
              "      <td>56000</td>\n",
              "      <td>12.00</td>\n",
              "      <td>640</td>\n",
              "      <td>480</td>\n",
              "      <td>1.692</td>\n",
              "      <td>0</td>\n",
              "      <td>0</td>\n",
              "      <td>1</td>\n",
              "      <td>0</td>\n",
              "      <td>0</td>\n",
              "      <td>0</td>\n",
              "      <td>1</td>\n",
              "      <td>0</td>\n",
              "    </tr>\n",
              "    <tr>\n",
              "      <th>4</th>\n",
              "      <td>130.35667</td>\n",
              "      <td>176</td>\n",
              "      <td>144</td>\n",
              "      <td>54590</td>\n",
              "      <td>12.000000</td>\n",
              "      <td>27</td>\n",
              "      <td>1537</td>\n",
              "      <td>0</td>\n",
              "      <td>1564</td>\n",
              "      <td>64483</td>\n",
              "      <td>825054</td>\n",
              "      <td>889537</td>\n",
              "      <td>56000</td>\n",
              "      <td>12.00</td>\n",
              "      <td>1280</td>\n",
              "      <td>720</td>\n",
              "      <td>3.456</td>\n",
              "      <td>0</td>\n",
              "      <td>0</td>\n",
              "      <td>1</td>\n",
              "      <td>0</td>\n",
              "      <td>0</td>\n",
              "      <td>0</td>\n",
              "      <td>1</td>\n",
              "      <td>0</td>\n",
              "    </tr>\n",
              "    <tr>\n",
              "      <th>...</th>\n",
              "      <td>...</td>\n",
              "      <td>...</td>\n",
              "      <td>...</td>\n",
              "      <td>...</td>\n",
              "      <td>...</td>\n",
              "      <td>...</td>\n",
              "      <td>...</td>\n",
              "      <td>...</td>\n",
              "      <td>...</td>\n",
              "      <td>...</td>\n",
              "      <td>...</td>\n",
              "      <td>...</td>\n",
              "      <td>...</td>\n",
              "      <td>...</td>\n",
              "      <td>...</td>\n",
              "      <td>...</td>\n",
              "      <td>...</td>\n",
              "      <td>...</td>\n",
              "      <td>...</td>\n",
              "      <td>...</td>\n",
              "      <td>...</td>\n",
              "      <td>...</td>\n",
              "      <td>...</td>\n",
              "      <td>...</td>\n",
              "      <td>...</td>\n",
              "    </tr>\n",
              "    <tr>\n",
              "      <th>68779</th>\n",
              "      <td>972.27100</td>\n",
              "      <td>480</td>\n",
              "      <td>360</td>\n",
              "      <td>278822</td>\n",
              "      <td>29.000000</td>\n",
              "      <td>560</td>\n",
              "      <td>28580</td>\n",
              "      <td>0</td>\n",
              "      <td>29140</td>\n",
              "      <td>7324628</td>\n",
              "      <td>26561730</td>\n",
              "      <td>33886358</td>\n",
              "      <td>242000</td>\n",
              "      <td>24.00</td>\n",
              "      <td>640</td>\n",
              "      <td>480</td>\n",
              "      <td>1.552</td>\n",
              "      <td>0</td>\n",
              "      <td>1</td>\n",
              "      <td>0</td>\n",
              "      <td>0</td>\n",
              "      <td>1</td>\n",
              "      <td>0</td>\n",
              "      <td>0</td>\n",
              "      <td>0</td>\n",
              "    </tr>\n",
              "    <tr>\n",
              "      <th>68780</th>\n",
              "      <td>129.88100</td>\n",
              "      <td>640</td>\n",
              "      <td>480</td>\n",
              "      <td>639331</td>\n",
              "      <td>30.162790</td>\n",
              "      <td>36</td>\n",
              "      <td>3855</td>\n",
              "      <td>0</td>\n",
              "      <td>3891</td>\n",
              "      <td>875784</td>\n",
              "      <td>9503846</td>\n",
              "      <td>10379630</td>\n",
              "      <td>539000</td>\n",
              "      <td>29.97</td>\n",
              "      <td>1920</td>\n",
              "      <td>1080</td>\n",
              "      <td>18.557</td>\n",
              "      <td>0</td>\n",
              "      <td>0</td>\n",
              "      <td>0</td>\n",
              "      <td>1</td>\n",
              "      <td>0</td>\n",
              "      <td>0</td>\n",
              "      <td>1</td>\n",
              "      <td>0</td>\n",
              "    </tr>\n",
              "    <tr>\n",
              "      <th>68781</th>\n",
              "      <td>249.68000</td>\n",
              "      <td>320</td>\n",
              "      <td>240</td>\n",
              "      <td>359345</td>\n",
              "      <td>25.068274</td>\n",
              "      <td>129</td>\n",
              "      <td>6113</td>\n",
              "      <td>0</td>\n",
              "      <td>6242</td>\n",
              "      <td>1758664</td>\n",
              "      <td>9456514</td>\n",
              "      <td>11215178</td>\n",
              "      <td>539000</td>\n",
              "      <td>12.00</td>\n",
              "      <td>176</td>\n",
              "      <td>144</td>\n",
              "      <td>0.752</td>\n",
              "      <td>0</td>\n",
              "      <td>0</td>\n",
              "      <td>0</td>\n",
              "      <td>1</td>\n",
              "      <td>1</td>\n",
              "      <td>0</td>\n",
              "      <td>0</td>\n",
              "      <td>0</td>\n",
              "    </tr>\n",
              "    <tr>\n",
              "      <th>68782</th>\n",
              "      <td>183.62334</td>\n",
              "      <td>1280</td>\n",
              "      <td>720</td>\n",
              "      <td>2847539</td>\n",
              "      <td>29.000000</td>\n",
              "      <td>98</td>\n",
              "      <td>5405</td>\n",
              "      <td>0</td>\n",
              "      <td>5503</td>\n",
              "      <td>5246294</td>\n",
              "      <td>60113035</td>\n",
              "      <td>65359329</td>\n",
              "      <td>539000</td>\n",
              "      <td>12.00</td>\n",
              "      <td>320</td>\n",
              "      <td>240</td>\n",
              "      <td>5.444</td>\n",
              "      <td>0</td>\n",
              "      <td>1</td>\n",
              "      <td>0</td>\n",
              "      <td>0</td>\n",
              "      <td>0</td>\n",
              "      <td>0</td>\n",
              "      <td>1</td>\n",
              "      <td>0</td>\n",
              "    </tr>\n",
              "    <tr>\n",
              "      <th>68783</th>\n",
              "      <td>294.61334</td>\n",
              "      <td>176</td>\n",
              "      <td>144</td>\n",
              "      <td>55242</td>\n",
              "      <td>12.000000</td>\n",
              "      <td>61</td>\n",
              "      <td>3474</td>\n",
              "      <td>0</td>\n",
              "      <td>3535</td>\n",
              "      <td>84002</td>\n",
              "      <td>1950409</td>\n",
              "      <td>2034411</td>\n",
              "      <td>820000</td>\n",
              "      <td>24.00</td>\n",
              "      <td>176</td>\n",
              "      <td>144</td>\n",
              "      <td>3.076</td>\n",
              "      <td>0</td>\n",
              "      <td>0</td>\n",
              "      <td>1</td>\n",
              "      <td>0</td>\n",
              "      <td>0</td>\n",
              "      <td>1</td>\n",
              "      <td>0</td>\n",
              "      <td>0</td>\n",
              "    </tr>\n",
              "  </tbody>\n",
              "</table>\n",
              "<p>68784 rows × 25 columns</p>\n",
              "</div>"
            ],
            "text/plain": [
              "        duration  width  height  ...  o_codec_h264  o_codec_mpeg4  o_codec_vp8\n",
              "0      130.35667    176     144  ...             0              1            0\n",
              "1      130.35667    176     144  ...             0              1            0\n",
              "2      130.35667    176     144  ...             0              1            0\n",
              "3      130.35667    176     144  ...             0              1            0\n",
              "4      130.35667    176     144  ...             0              1            0\n",
              "...          ...    ...     ...  ...           ...            ...          ...\n",
              "68779  972.27100    480     360  ...             0              0            0\n",
              "68780  129.88100    640     480  ...             0              1            0\n",
              "68781  249.68000    320     240  ...             0              0            0\n",
              "68782  183.62334   1280     720  ...             0              1            0\n",
              "68783  294.61334    176     144  ...             1              0            0\n",
              "\n",
              "[68784 rows x 25 columns]"
            ]
          },
          "metadata": {
            "tags": []
          },
          "execution_count": 25
        }
      ]
    },
    {
      "cell_type": "markdown",
      "metadata": {
        "id": "vn9aXIWCEjBe"
      },
      "source": [
        "Q8"
      ]
    },
    {
      "cell_type": "code",
      "metadata": {
        "colab": {
          "base_uri": "https://localhost:8080/",
          "height": 443
        },
        "id": "_B0Vtl3OEjw7",
        "outputId": "cff73c2a-6d3e-4c59-b6e6-a4118adfcaac"
      },
      "source": [
        "df_video3 = df_video2.copy(deep=True)\n",
        "df_video3.drop('utime',axis=1,inplace=True)\n",
        "print(list(df_video3.columns))\n",
        "df_video3"
      ],
      "execution_count": 26,
      "outputs": [
        {
          "output_type": "stream",
          "text": [
            "['duration', 'width', 'height', 'bitrate', 'framerate', 'i', 'p', 'b', 'frames', 'i_size', 'p_size', 'size', 'o_bitrate', 'o_framerate', 'o_width', 'o_height', 'codec_flv', 'codec_h264', 'codec_mpeg4', 'codec_vp8', 'o_codec_flv', 'o_codec_h264', 'o_codec_mpeg4', 'o_codec_vp8']\n"
          ],
          "name": "stdout"
        },
        {
          "output_type": "execute_result",
          "data": {
            "text/html": [
              "<div>\n",
              "<style scoped>\n",
              "    .dataframe tbody tr th:only-of-type {\n",
              "        vertical-align: middle;\n",
              "    }\n",
              "\n",
              "    .dataframe tbody tr th {\n",
              "        vertical-align: top;\n",
              "    }\n",
              "\n",
              "    .dataframe thead th {\n",
              "        text-align: right;\n",
              "    }\n",
              "</style>\n",
              "<table border=\"1\" class=\"dataframe\">\n",
              "  <thead>\n",
              "    <tr style=\"text-align: right;\">\n",
              "      <th></th>\n",
              "      <th>duration</th>\n",
              "      <th>width</th>\n",
              "      <th>height</th>\n",
              "      <th>bitrate</th>\n",
              "      <th>framerate</th>\n",
              "      <th>i</th>\n",
              "      <th>p</th>\n",
              "      <th>b</th>\n",
              "      <th>frames</th>\n",
              "      <th>i_size</th>\n",
              "      <th>p_size</th>\n",
              "      <th>size</th>\n",
              "      <th>o_bitrate</th>\n",
              "      <th>o_framerate</th>\n",
              "      <th>o_width</th>\n",
              "      <th>o_height</th>\n",
              "      <th>codec_flv</th>\n",
              "      <th>codec_h264</th>\n",
              "      <th>codec_mpeg4</th>\n",
              "      <th>codec_vp8</th>\n",
              "      <th>o_codec_flv</th>\n",
              "      <th>o_codec_h264</th>\n",
              "      <th>o_codec_mpeg4</th>\n",
              "      <th>o_codec_vp8</th>\n",
              "    </tr>\n",
              "  </thead>\n",
              "  <tbody>\n",
              "    <tr>\n",
              "      <th>0</th>\n",
              "      <td>130.35667</td>\n",
              "      <td>176</td>\n",
              "      <td>144</td>\n",
              "      <td>54590</td>\n",
              "      <td>12.000000</td>\n",
              "      <td>27</td>\n",
              "      <td>1537</td>\n",
              "      <td>0</td>\n",
              "      <td>1564</td>\n",
              "      <td>64483</td>\n",
              "      <td>825054</td>\n",
              "      <td>889537</td>\n",
              "      <td>56000</td>\n",
              "      <td>12.00</td>\n",
              "      <td>176</td>\n",
              "      <td>144</td>\n",
              "      <td>0</td>\n",
              "      <td>0</td>\n",
              "      <td>1</td>\n",
              "      <td>0</td>\n",
              "      <td>0</td>\n",
              "      <td>0</td>\n",
              "      <td>1</td>\n",
              "      <td>0</td>\n",
              "    </tr>\n",
              "    <tr>\n",
              "      <th>1</th>\n",
              "      <td>130.35667</td>\n",
              "      <td>176</td>\n",
              "      <td>144</td>\n",
              "      <td>54590</td>\n",
              "      <td>12.000000</td>\n",
              "      <td>27</td>\n",
              "      <td>1537</td>\n",
              "      <td>0</td>\n",
              "      <td>1564</td>\n",
              "      <td>64483</td>\n",
              "      <td>825054</td>\n",
              "      <td>889537</td>\n",
              "      <td>56000</td>\n",
              "      <td>12.00</td>\n",
              "      <td>320</td>\n",
              "      <td>240</td>\n",
              "      <td>0</td>\n",
              "      <td>0</td>\n",
              "      <td>1</td>\n",
              "      <td>0</td>\n",
              "      <td>0</td>\n",
              "      <td>0</td>\n",
              "      <td>1</td>\n",
              "      <td>0</td>\n",
              "    </tr>\n",
              "    <tr>\n",
              "      <th>2</th>\n",
              "      <td>130.35667</td>\n",
              "      <td>176</td>\n",
              "      <td>144</td>\n",
              "      <td>54590</td>\n",
              "      <td>12.000000</td>\n",
              "      <td>27</td>\n",
              "      <td>1537</td>\n",
              "      <td>0</td>\n",
              "      <td>1564</td>\n",
              "      <td>64483</td>\n",
              "      <td>825054</td>\n",
              "      <td>889537</td>\n",
              "      <td>56000</td>\n",
              "      <td>12.00</td>\n",
              "      <td>480</td>\n",
              "      <td>360</td>\n",
              "      <td>0</td>\n",
              "      <td>0</td>\n",
              "      <td>1</td>\n",
              "      <td>0</td>\n",
              "      <td>0</td>\n",
              "      <td>0</td>\n",
              "      <td>1</td>\n",
              "      <td>0</td>\n",
              "    </tr>\n",
              "    <tr>\n",
              "      <th>3</th>\n",
              "      <td>130.35667</td>\n",
              "      <td>176</td>\n",
              "      <td>144</td>\n",
              "      <td>54590</td>\n",
              "      <td>12.000000</td>\n",
              "      <td>27</td>\n",
              "      <td>1537</td>\n",
              "      <td>0</td>\n",
              "      <td>1564</td>\n",
              "      <td>64483</td>\n",
              "      <td>825054</td>\n",
              "      <td>889537</td>\n",
              "      <td>56000</td>\n",
              "      <td>12.00</td>\n",
              "      <td>640</td>\n",
              "      <td>480</td>\n",
              "      <td>0</td>\n",
              "      <td>0</td>\n",
              "      <td>1</td>\n",
              "      <td>0</td>\n",
              "      <td>0</td>\n",
              "      <td>0</td>\n",
              "      <td>1</td>\n",
              "      <td>0</td>\n",
              "    </tr>\n",
              "    <tr>\n",
              "      <th>4</th>\n",
              "      <td>130.35667</td>\n",
              "      <td>176</td>\n",
              "      <td>144</td>\n",
              "      <td>54590</td>\n",
              "      <td>12.000000</td>\n",
              "      <td>27</td>\n",
              "      <td>1537</td>\n",
              "      <td>0</td>\n",
              "      <td>1564</td>\n",
              "      <td>64483</td>\n",
              "      <td>825054</td>\n",
              "      <td>889537</td>\n",
              "      <td>56000</td>\n",
              "      <td>12.00</td>\n",
              "      <td>1280</td>\n",
              "      <td>720</td>\n",
              "      <td>0</td>\n",
              "      <td>0</td>\n",
              "      <td>1</td>\n",
              "      <td>0</td>\n",
              "      <td>0</td>\n",
              "      <td>0</td>\n",
              "      <td>1</td>\n",
              "      <td>0</td>\n",
              "    </tr>\n",
              "    <tr>\n",
              "      <th>...</th>\n",
              "      <td>...</td>\n",
              "      <td>...</td>\n",
              "      <td>...</td>\n",
              "      <td>...</td>\n",
              "      <td>...</td>\n",
              "      <td>...</td>\n",
              "      <td>...</td>\n",
              "      <td>...</td>\n",
              "      <td>...</td>\n",
              "      <td>...</td>\n",
              "      <td>...</td>\n",
              "      <td>...</td>\n",
              "      <td>...</td>\n",
              "      <td>...</td>\n",
              "      <td>...</td>\n",
              "      <td>...</td>\n",
              "      <td>...</td>\n",
              "      <td>...</td>\n",
              "      <td>...</td>\n",
              "      <td>...</td>\n",
              "      <td>...</td>\n",
              "      <td>...</td>\n",
              "      <td>...</td>\n",
              "      <td>...</td>\n",
              "    </tr>\n",
              "    <tr>\n",
              "      <th>68779</th>\n",
              "      <td>972.27100</td>\n",
              "      <td>480</td>\n",
              "      <td>360</td>\n",
              "      <td>278822</td>\n",
              "      <td>29.000000</td>\n",
              "      <td>560</td>\n",
              "      <td>28580</td>\n",
              "      <td>0</td>\n",
              "      <td>29140</td>\n",
              "      <td>7324628</td>\n",
              "      <td>26561730</td>\n",
              "      <td>33886358</td>\n",
              "      <td>242000</td>\n",
              "      <td>24.00</td>\n",
              "      <td>640</td>\n",
              "      <td>480</td>\n",
              "      <td>0</td>\n",
              "      <td>1</td>\n",
              "      <td>0</td>\n",
              "      <td>0</td>\n",
              "      <td>1</td>\n",
              "      <td>0</td>\n",
              "      <td>0</td>\n",
              "      <td>0</td>\n",
              "    </tr>\n",
              "    <tr>\n",
              "      <th>68780</th>\n",
              "      <td>129.88100</td>\n",
              "      <td>640</td>\n",
              "      <td>480</td>\n",
              "      <td>639331</td>\n",
              "      <td>30.162790</td>\n",
              "      <td>36</td>\n",
              "      <td>3855</td>\n",
              "      <td>0</td>\n",
              "      <td>3891</td>\n",
              "      <td>875784</td>\n",
              "      <td>9503846</td>\n",
              "      <td>10379630</td>\n",
              "      <td>539000</td>\n",
              "      <td>29.97</td>\n",
              "      <td>1920</td>\n",
              "      <td>1080</td>\n",
              "      <td>0</td>\n",
              "      <td>0</td>\n",
              "      <td>0</td>\n",
              "      <td>1</td>\n",
              "      <td>0</td>\n",
              "      <td>0</td>\n",
              "      <td>1</td>\n",
              "      <td>0</td>\n",
              "    </tr>\n",
              "    <tr>\n",
              "      <th>68781</th>\n",
              "      <td>249.68000</td>\n",
              "      <td>320</td>\n",
              "      <td>240</td>\n",
              "      <td>359345</td>\n",
              "      <td>25.068274</td>\n",
              "      <td>129</td>\n",
              "      <td>6113</td>\n",
              "      <td>0</td>\n",
              "      <td>6242</td>\n",
              "      <td>1758664</td>\n",
              "      <td>9456514</td>\n",
              "      <td>11215178</td>\n",
              "      <td>539000</td>\n",
              "      <td>12.00</td>\n",
              "      <td>176</td>\n",
              "      <td>144</td>\n",
              "      <td>0</td>\n",
              "      <td>0</td>\n",
              "      <td>0</td>\n",
              "      <td>1</td>\n",
              "      <td>1</td>\n",
              "      <td>0</td>\n",
              "      <td>0</td>\n",
              "      <td>0</td>\n",
              "    </tr>\n",
              "    <tr>\n",
              "      <th>68782</th>\n",
              "      <td>183.62334</td>\n",
              "      <td>1280</td>\n",
              "      <td>720</td>\n",
              "      <td>2847539</td>\n",
              "      <td>29.000000</td>\n",
              "      <td>98</td>\n",
              "      <td>5405</td>\n",
              "      <td>0</td>\n",
              "      <td>5503</td>\n",
              "      <td>5246294</td>\n",
              "      <td>60113035</td>\n",
              "      <td>65359329</td>\n",
              "      <td>539000</td>\n",
              "      <td>12.00</td>\n",
              "      <td>320</td>\n",
              "      <td>240</td>\n",
              "      <td>0</td>\n",
              "      <td>1</td>\n",
              "      <td>0</td>\n",
              "      <td>0</td>\n",
              "      <td>0</td>\n",
              "      <td>0</td>\n",
              "      <td>1</td>\n",
              "      <td>0</td>\n",
              "    </tr>\n",
              "    <tr>\n",
              "      <th>68783</th>\n",
              "      <td>294.61334</td>\n",
              "      <td>176</td>\n",
              "      <td>144</td>\n",
              "      <td>55242</td>\n",
              "      <td>12.000000</td>\n",
              "      <td>61</td>\n",
              "      <td>3474</td>\n",
              "      <td>0</td>\n",
              "      <td>3535</td>\n",
              "      <td>84002</td>\n",
              "      <td>1950409</td>\n",
              "      <td>2034411</td>\n",
              "      <td>820000</td>\n",
              "      <td>24.00</td>\n",
              "      <td>176</td>\n",
              "      <td>144</td>\n",
              "      <td>0</td>\n",
              "      <td>0</td>\n",
              "      <td>1</td>\n",
              "      <td>0</td>\n",
              "      <td>0</td>\n",
              "      <td>1</td>\n",
              "      <td>0</td>\n",
              "      <td>0</td>\n",
              "    </tr>\n",
              "  </tbody>\n",
              "</table>\n",
              "<p>68784 rows × 24 columns</p>\n",
              "</div>"
            ],
            "text/plain": [
              "        duration  width  height  ...  o_codec_h264  o_codec_mpeg4  o_codec_vp8\n",
              "0      130.35667    176     144  ...             0              1            0\n",
              "1      130.35667    176     144  ...             0              1            0\n",
              "2      130.35667    176     144  ...             0              1            0\n",
              "3      130.35667    176     144  ...             0              1            0\n",
              "4      130.35667    176     144  ...             0              1            0\n",
              "...          ...    ...     ...  ...           ...            ...          ...\n",
              "68779  972.27100    480     360  ...             0              0            0\n",
              "68780  129.88100    640     480  ...             0              1            0\n",
              "68781  249.68000    320     240  ...             0              0            0\n",
              "68782  183.62334   1280     720  ...             0              1            0\n",
              "68783  294.61334    176     144  ...             1              0            0\n",
              "\n",
              "[68784 rows x 24 columns]"
            ]
          },
          "metadata": {
            "tags": []
          },
          "execution_count": 26
        }
      ]
    },
    {
      "cell_type": "code",
      "metadata": {
        "colab": {
          "base_uri": "https://localhost:8080/"
        },
        "id": "-jdTamnCEmLO",
        "outputId": "434ef21e-27d7-4949-aa58-3fc67cbb658c"
      },
      "source": [
        "df_video4 = StandardScaler().fit_transform(df_video3[['duration', 'width', 'height', 'bitrate', 'framerate', 'i', 'p', 'b', 'frames', 'i_size', 'p_size', 'size', 'o_bitrate', 'o_framerate', 'o_width', 'o_height']])\n",
        "df_video4"
      ],
      "execution_count": 27,
      "outputs": [
        {
          "output_type": "execute_result",
          "data": {
            "text/plain": [
              "array([[-0.54326973, -0.96927335, -1.11619663, ..., -1.37821834,\n",
              "        -1.02685605, -1.13880323],\n",
              "       [-0.54326973, -0.96927335, -1.11619663, ..., -1.37821834,\n",
              "        -0.7907732 , -0.83497513],\n",
              "       [-0.54326973, -0.96927335, -1.11619663, ..., -1.37821834,\n",
              "        -0.52845893, -0.45519001],\n",
              "       ...,\n",
              "       [-0.12787889, -0.6583695 , -0.71721689, ..., -1.37821834,\n",
              "        -1.02685605, -1.13880323],\n",
              "       [-0.3578367 ,  1.41432284,  1.2776818 , ..., -1.37821834,\n",
              "        -0.7907732 , -0.83497513],\n",
              "       [ 0.02854399, -0.96927335, -1.11619663, ...,  0.42124515,\n",
              "        -1.02685605, -1.13880323]])"
            ]
          },
          "metadata": {
            "tags": []
          },
          "execution_count": 27
        }
      ]
    },
    {
      "cell_type": "code",
      "metadata": {
        "colab": {
          "base_uri": "https://localhost:8080/",
          "height": 427
        },
        "id": "HOlo6AhwEoQC",
        "outputId": "397093ea-91c9-4258-ed4b-688e51a1ffb9"
      },
      "source": [
        "df_video5 = df_video3.copy(deep=True)\n",
        "df_video5[['duration', 'width', 'height', 'bitrate', 'framerate', 'i', 'p', 'b', 'frames', 'i_size', 'p_size', 'size', 'o_bitrate', 'o_framerate', 'o_width', 'o_height']]=df_video4\n",
        "df_video5"
      ],
      "execution_count": 28,
      "outputs": [
        {
          "output_type": "execute_result",
          "data": {
            "text/html": [
              "<div>\n",
              "<style scoped>\n",
              "    .dataframe tbody tr th:only-of-type {\n",
              "        vertical-align: middle;\n",
              "    }\n",
              "\n",
              "    .dataframe tbody tr th {\n",
              "        vertical-align: top;\n",
              "    }\n",
              "\n",
              "    .dataframe thead th {\n",
              "        text-align: right;\n",
              "    }\n",
              "</style>\n",
              "<table border=\"1\" class=\"dataframe\">\n",
              "  <thead>\n",
              "    <tr style=\"text-align: right;\">\n",
              "      <th></th>\n",
              "      <th>duration</th>\n",
              "      <th>width</th>\n",
              "      <th>height</th>\n",
              "      <th>bitrate</th>\n",
              "      <th>framerate</th>\n",
              "      <th>i</th>\n",
              "      <th>p</th>\n",
              "      <th>b</th>\n",
              "      <th>frames</th>\n",
              "      <th>i_size</th>\n",
              "      <th>p_size</th>\n",
              "      <th>size</th>\n",
              "      <th>o_bitrate</th>\n",
              "      <th>o_framerate</th>\n",
              "      <th>o_width</th>\n",
              "      <th>o_height</th>\n",
              "      <th>codec_flv</th>\n",
              "      <th>codec_h264</th>\n",
              "      <th>codec_mpeg4</th>\n",
              "      <th>codec_vp8</th>\n",
              "      <th>o_codec_flv</th>\n",
              "      <th>o_codec_h264</th>\n",
              "      <th>o_codec_mpeg4</th>\n",
              "      <th>o_codec_vp8</th>\n",
              "    </tr>\n",
              "  </thead>\n",
              "  <tbody>\n",
              "    <tr>\n",
              "      <th>0</th>\n",
              "      <td>-0.543270</td>\n",
              "      <td>-0.969273</td>\n",
              "      <td>-1.116197</td>\n",
              "      <td>-0.583333</td>\n",
              "      <td>-1.555936</td>\n",
              "      <td>-0.871457</td>\n",
              "      <td>-0.822060</td>\n",
              "      <td>-0.098879</td>\n",
              "      <td>-0.825201</td>\n",
              "      <td>-0.641488</td>\n",
              "      <td>-0.418960</td>\n",
              "      <td>-0.445729</td>\n",
              "      <td>-0.765453</td>\n",
              "      <td>-1.378218</td>\n",
              "      <td>-1.026856</td>\n",
              "      <td>-1.138803</td>\n",
              "      <td>0</td>\n",
              "      <td>0</td>\n",
              "      <td>1</td>\n",
              "      <td>0</td>\n",
              "      <td>0</td>\n",
              "      <td>0</td>\n",
              "      <td>1</td>\n",
              "      <td>0</td>\n",
              "    </tr>\n",
              "    <tr>\n",
              "      <th>1</th>\n",
              "      <td>-0.543270</td>\n",
              "      <td>-0.969273</td>\n",
              "      <td>-1.116197</td>\n",
              "      <td>-0.583333</td>\n",
              "      <td>-1.555936</td>\n",
              "      <td>-0.871457</td>\n",
              "      <td>-0.822060</td>\n",
              "      <td>-0.098879</td>\n",
              "      <td>-0.825201</td>\n",
              "      <td>-0.641488</td>\n",
              "      <td>-0.418960</td>\n",
              "      <td>-0.445729</td>\n",
              "      <td>-0.765453</td>\n",
              "      <td>-1.378218</td>\n",
              "      <td>-0.790773</td>\n",
              "      <td>-0.834975</td>\n",
              "      <td>0</td>\n",
              "      <td>0</td>\n",
              "      <td>1</td>\n",
              "      <td>0</td>\n",
              "      <td>0</td>\n",
              "      <td>0</td>\n",
              "      <td>1</td>\n",
              "      <td>0</td>\n",
              "    </tr>\n",
              "    <tr>\n",
              "      <th>2</th>\n",
              "      <td>-0.543270</td>\n",
              "      <td>-0.969273</td>\n",
              "      <td>-1.116197</td>\n",
              "      <td>-0.583333</td>\n",
              "      <td>-1.555936</td>\n",
              "      <td>-0.871457</td>\n",
              "      <td>-0.822060</td>\n",
              "      <td>-0.098879</td>\n",
              "      <td>-0.825201</td>\n",
              "      <td>-0.641488</td>\n",
              "      <td>-0.418960</td>\n",
              "      <td>-0.445729</td>\n",
              "      <td>-0.765453</td>\n",
              "      <td>-1.378218</td>\n",
              "      <td>-0.528459</td>\n",
              "      <td>-0.455190</td>\n",
              "      <td>0</td>\n",
              "      <td>0</td>\n",
              "      <td>1</td>\n",
              "      <td>0</td>\n",
              "      <td>0</td>\n",
              "      <td>0</td>\n",
              "      <td>1</td>\n",
              "      <td>0</td>\n",
              "    </tr>\n",
              "    <tr>\n",
              "      <th>3</th>\n",
              "      <td>-0.543270</td>\n",
              "      <td>-0.969273</td>\n",
              "      <td>-1.116197</td>\n",
              "      <td>-0.583333</td>\n",
              "      <td>-1.555936</td>\n",
              "      <td>-0.871457</td>\n",
              "      <td>-0.822060</td>\n",
              "      <td>-0.098879</td>\n",
              "      <td>-0.825201</td>\n",
              "      <td>-0.641488</td>\n",
              "      <td>-0.418960</td>\n",
              "      <td>-0.445729</td>\n",
              "      <td>-0.765453</td>\n",
              "      <td>-1.378218</td>\n",
              "      <td>-0.266145</td>\n",
              "      <td>-0.075405</td>\n",
              "      <td>0</td>\n",
              "      <td>0</td>\n",
              "      <td>1</td>\n",
              "      <td>0</td>\n",
              "      <td>0</td>\n",
              "      <td>0</td>\n",
              "      <td>1</td>\n",
              "      <td>0</td>\n",
              "    </tr>\n",
              "    <tr>\n",
              "      <th>4</th>\n",
              "      <td>-0.543270</td>\n",
              "      <td>-0.969273</td>\n",
              "      <td>-1.116197</td>\n",
              "      <td>-0.583333</td>\n",
              "      <td>-1.555936</td>\n",
              "      <td>-0.871457</td>\n",
              "      <td>-0.822060</td>\n",
              "      <td>-0.098879</td>\n",
              "      <td>-0.825201</td>\n",
              "      <td>-0.641488</td>\n",
              "      <td>-0.418960</td>\n",
              "      <td>-0.445729</td>\n",
              "      <td>-0.765453</td>\n",
              "      <td>-1.378218</td>\n",
              "      <td>0.783112</td>\n",
              "      <td>0.684165</td>\n",
              "      <td>0</td>\n",
              "      <td>0</td>\n",
              "      <td>1</td>\n",
              "      <td>0</td>\n",
              "      <td>0</td>\n",
              "      <td>0</td>\n",
              "      <td>1</td>\n",
              "      <td>0</td>\n",
              "    </tr>\n",
              "    <tr>\n",
              "      <th>...</th>\n",
              "      <td>...</td>\n",
              "      <td>...</td>\n",
              "      <td>...</td>\n",
              "      <td>...</td>\n",
              "      <td>...</td>\n",
              "      <td>...</td>\n",
              "      <td>...</td>\n",
              "      <td>...</td>\n",
              "      <td>...</td>\n",
              "      <td>...</td>\n",
              "      <td>...</td>\n",
              "      <td>...</td>\n",
              "      <td>...</td>\n",
              "      <td>...</td>\n",
              "      <td>...</td>\n",
              "      <td>...</td>\n",
              "      <td>...</td>\n",
              "      <td>...</td>\n",
              "      <td>...</td>\n",
              "      <td>...</td>\n",
              "      <td>...</td>\n",
              "      <td>...</td>\n",
              "      <td>...</td>\n",
              "      <td>...</td>\n",
              "    </tr>\n",
              "    <tr>\n",
              "      <th>68779</th>\n",
              "      <td>2.387620</td>\n",
              "      <td>-0.312921</td>\n",
              "      <td>-0.218492</td>\n",
              "      <td>-0.378671</td>\n",
              "      <td>0.797072</td>\n",
              "      <td>5.416577</td>\n",
              "      <td>3.628857</td>\n",
              "      <td>-0.098879</td>\n",
              "      <td>3.656298</td>\n",
              "      <td>1.037117</td>\n",
              "      <td>0.085951</td>\n",
              "      <td>0.163702</td>\n",
              "      <td>-0.659127</td>\n",
              "      <td>0.421245</td>\n",
              "      <td>-0.266145</td>\n",
              "      <td>-0.075405</td>\n",
              "      <td>0</td>\n",
              "      <td>1</td>\n",
              "      <td>0</td>\n",
              "      <td>0</td>\n",
              "      <td>1</td>\n",
              "      <td>0</td>\n",
              "      <td>0</td>\n",
              "      <td>0</td>\n",
              "    </tr>\n",
              "    <tr>\n",
              "      <th>68780</th>\n",
              "      <td>-0.544926</td>\n",
              "      <td>0.032528</td>\n",
              "      <td>0.280232</td>\n",
              "      <td>-0.049625</td>\n",
              "      <td>0.958016</td>\n",
              "      <td>-0.765280</td>\n",
              "      <td>-0.440548</td>\n",
              "      <td>-0.098879</td>\n",
              "      <td>-0.447030</td>\n",
              "      <td>-0.453909</td>\n",
              "      <td>-0.248696</td>\n",
              "      <td>-0.270453</td>\n",
              "      <td>-0.489348</td>\n",
              "      <td>1.316478</td>\n",
              "      <td>1.832370</td>\n",
              "      <td>1.823521</td>\n",
              "      <td>0</td>\n",
              "      <td>0</td>\n",
              "      <td>0</td>\n",
              "      <td>1</td>\n",
              "      <td>0</td>\n",
              "      <td>0</td>\n",
              "      <td>1</td>\n",
              "      <td>0</td>\n",
              "    </tr>\n",
              "    <tr>\n",
              "      <th>68781</th>\n",
              "      <td>-0.127879</td>\n",
              "      <td>-0.658369</td>\n",
              "      <td>-0.717217</td>\n",
              "      <td>-0.305176</td>\n",
              "      <td>0.252873</td>\n",
              "      <td>0.331882</td>\n",
              "      <td>-0.068911</td>\n",
              "      <td>-0.098879</td>\n",
              "      <td>-0.064958</td>\n",
              "      <td>-0.249780</td>\n",
              "      <td>-0.249625</td>\n",
              "      <td>-0.255021</td>\n",
              "      <td>-0.489348</td>\n",
              "      <td>-1.378218</td>\n",
              "      <td>-1.026856</td>\n",
              "      <td>-1.138803</td>\n",
              "      <td>0</td>\n",
              "      <td>0</td>\n",
              "      <td>0</td>\n",
              "      <td>1</td>\n",
              "      <td>1</td>\n",
              "      <td>0</td>\n",
              "      <td>0</td>\n",
              "      <td>0</td>\n",
              "    </tr>\n",
              "    <tr>\n",
              "      <th>68782</th>\n",
              "      <td>-0.357837</td>\n",
              "      <td>1.414323</td>\n",
              "      <td>1.277682</td>\n",
              "      <td>1.965863</td>\n",
              "      <td>0.797072</td>\n",
              "      <td>-0.033839</td>\n",
              "      <td>-0.185438</td>\n",
              "      <td>-0.098879</td>\n",
              "      <td>-0.185057</td>\n",
              "      <td>0.556589</td>\n",
              "      <td>0.744172</td>\n",
              "      <td>0.744989</td>\n",
              "      <td>-0.489348</td>\n",
              "      <td>-1.378218</td>\n",
              "      <td>-0.790773</td>\n",
              "      <td>-0.834975</td>\n",
              "      <td>0</td>\n",
              "      <td>1</td>\n",
              "      <td>0</td>\n",
              "      <td>0</td>\n",
              "      <td>0</td>\n",
              "      <td>0</td>\n",
              "      <td>1</td>\n",
              "      <td>0</td>\n",
              "    </tr>\n",
              "    <tr>\n",
              "      <th>68783</th>\n",
              "      <td>0.028544</td>\n",
              "      <td>-0.969273</td>\n",
              "      <td>-1.116197</td>\n",
              "      <td>-0.582738</td>\n",
              "      <td>-1.555936</td>\n",
              "      <td>-0.470344</td>\n",
              "      <td>-0.503255</td>\n",
              "      <td>-0.098879</td>\n",
              "      <td>-0.504885</td>\n",
              "      <td>-0.636975</td>\n",
              "      <td>-0.396882</td>\n",
              "      <td>-0.424584</td>\n",
              "      <td>-0.328716</td>\n",
              "      <td>0.421245</td>\n",
              "      <td>-1.026856</td>\n",
              "      <td>-1.138803</td>\n",
              "      <td>0</td>\n",
              "      <td>0</td>\n",
              "      <td>1</td>\n",
              "      <td>0</td>\n",
              "      <td>0</td>\n",
              "      <td>1</td>\n",
              "      <td>0</td>\n",
              "      <td>0</td>\n",
              "    </tr>\n",
              "  </tbody>\n",
              "</table>\n",
              "<p>68784 rows × 24 columns</p>\n",
              "</div>"
            ],
            "text/plain": [
              "       duration     width    height  ...  o_codec_h264  o_codec_mpeg4  o_codec_vp8\n",
              "0     -0.543270 -0.969273 -1.116197  ...             0              1            0\n",
              "1     -0.543270 -0.969273 -1.116197  ...             0              1            0\n",
              "2     -0.543270 -0.969273 -1.116197  ...             0              1            0\n",
              "3     -0.543270 -0.969273 -1.116197  ...             0              1            0\n",
              "4     -0.543270 -0.969273 -1.116197  ...             0              1            0\n",
              "...         ...       ...       ...  ...           ...            ...          ...\n",
              "68779  2.387620 -0.312921 -0.218492  ...             0              0            0\n",
              "68780 -0.544926  0.032528  0.280232  ...             0              1            0\n",
              "68781 -0.127879 -0.658369 -0.717217  ...             0              0            0\n",
              "68782 -0.357837  1.414323  1.277682  ...             0              1            0\n",
              "68783  0.028544 -0.969273 -1.116197  ...             1              0            0\n",
              "\n",
              "[68784 rows x 24 columns]"
            ]
          },
          "metadata": {
            "tags": []
          },
          "execution_count": 28
        }
      ]
    },
    {
      "cell_type": "markdown",
      "metadata": {
        "id": "Cz1vUkwYJSBd"
      },
      "source": [
        "Q9"
      ]
    },
    {
      "cell_type": "code",
      "metadata": {
        "colab": {
          "base_uri": "https://localhost:8080/"
        },
        "id": "qjYhFvagTG9H",
        "outputId": "270ec439-ea89-47fb-9bfd-211fdbd81794"
      },
      "source": [
        "y = df_video2['utime']\n",
        "print(y)\n",
        "print(list(df_video3.columns))"
      ],
      "execution_count": 11,
      "outputs": [
        {
          "output_type": "stream",
          "text": [
            "0         0.612\n",
            "1         0.980\n",
            "2         1.216\n",
            "3         1.692\n",
            "4         3.456\n",
            "          ...  \n",
            "68779     1.552\n",
            "68780    18.557\n",
            "68781     0.752\n",
            "68782     5.444\n",
            "68783     3.076\n",
            "Name: utime, Length: 68784, dtype: float64\n",
            "['duration', 'width', 'height', 'bitrate', 'framerate', 'i', 'p', 'b', 'frames', 'i_size', 'p_size', 'size', 'o_bitrate', 'o_framerate', 'o_width', 'o_height', 'codec_flv', 'codec_h264', 'codec_mpeg4', 'codec_vp8', 'o_codec_flv', 'o_codec_h264', 'o_codec_mpeg4', 'o_codec_vp8']\n"
          ],
          "name": "stdout"
        }
      ]
    },
    {
      "cell_type": "code",
      "metadata": {
        "colab": {
          "base_uri": "https://localhost:8080/"
        },
        "id": "MMm4tYKQTIW7",
        "outputId": "fdfd08fc-cf54-4628-f596-bd4bee6bf351"
      },
      "source": [
        "len(list(df_video3.columns))"
      ],
      "execution_count": 12,
      "outputs": [
        {
          "output_type": "execute_result",
          "data": {
            "text/plain": [
              "24"
            ]
          },
          "metadata": {
            "tags": []
          },
          "execution_count": 12
        }
      ]
    },
    {
      "cell_type": "code",
      "metadata": {
        "colab": {
          "base_uri": "https://localhost:8080/"
        },
        "id": "dat-ibPFTJ02",
        "outputId": "15fc025e-5a0c-4bc5-8a46-fdaa70c4ba95"
      },
      "source": [
        "FS, pval = f_regression(df_video3,y)\n",
        "print(list(FS))\n",
        "print(sorted([(x,i) for (i,x) in enumerate(list(FS))], reverse=True)[:3])"
      ],
      "execution_count": null,
      "outputs": [
        {
          "output_type": "stream",
          "text": [
            "[2.105398987245995, 1179.829517116466, 1154.4216403206165, 1697.644672121313, 435.6708959426785, 23.521143697016537, 75.90071258286802, 1.816910984793592, 75.5074542195104, 289.2410362278879, 662.1102054975207, 654.6205699213199, 1703.9027851754338, 752.7024732744941, 25950.518894503715, 25444.403221860186, 1.3969598065784785, 194.1653135071609, 451.83970143548555, 10.944269044135822, 5350.16483352774, 12922.464116360788, 2056.537938112341, 122.45106761049385]\n",
            "[(25950.518894503715, 14), (25444.403221860186, 15), (12922.464116360788, 21)]\n"
          ],
          "name": "stdout"
        }
      ]
    },
    {
      "cell_type": "code",
      "metadata": {
        "colab": {
          "base_uri": "https://localhost:8080/"
        },
        "id": "SAHmcAblTLMl",
        "outputId": "d823b6ca-6dc2-4939-979f-1ba19d4183ff"
      },
      "source": [
        "print(list(df_video3.columns)[14])\n",
        "print(list(df_video3.columns)[15])\n",
        "print(list(df_video3.columns)[22])"
      ],
      "execution_count": null,
      "outputs": [
        {
          "output_type": "stream",
          "text": [
            "o_width\n",
            "o_height\n",
            "o_codec_mpeg4\n"
          ],
          "name": "stdout"
        }
      ]
    },
    {
      "cell_type": "code",
      "metadata": {
        "colab": {
          "base_uri": "https://localhost:8080/"
        },
        "id": "NBHePOWPTMm3",
        "outputId": "a45d2c2a-315e-4e3c-ec97-1ac755f58b30"
      },
      "source": [
        "print(pval)"
      ],
      "execution_count": null,
      "outputs": [
        {
          "output_type": "stream",
          "text": [
            "[1.46784614e-001 2.21368310e-256 5.95592285e-251 0.00000000e+000\n",
            " 1.88957451e-096 1.23818001e-006 3.04766532e-018 1.77685850e-001\n",
            " 3.71849434e-018 9.87480266e-065 2.54151756e-145 1.04343830e-143\n",
            " 0.00000000e+000 8.05387778e-165 0.00000000e+000 0.00000000e+000\n",
            " 2.37237348e-001 4.49979502e-044 6.02604103e-100 9.39417432e-004\n",
            " 0.00000000e+000 0.00000000e+000 0.00000000e+000 1.94354984e-028]\n"
          ],
          "name": "stdout"
        }
      ]
    },
    {
      "cell_type": "markdown",
      "metadata": {
        "id": "-zsioo7QTP6v"
      },
      "source": [
        "Q10-Q13"
      ]
    },
    {
      "cell_type": "code",
      "metadata": {
        "id": "ZNarXylUTY4d"
      },
      "source": [
        "from sklearn.linear_model import LinearRegression\n",
        "from sklearn.linear_model import Ridge,Lasso\n",
        "from sklearn.pipeline import Pipeline\n",
        "from sklearn.model_selection import GridSearchCV\n",
        "from sklearn import preprocessing"
      ],
      "execution_count": 13,
      "outputs": []
    },
    {
      "cell_type": "code",
      "metadata": {
        "colab": {
          "base_uri": "https://localhost:8080/"
        },
        "id": "r4dzo0ubkZWi",
        "outputId": "d99eba2d-dc43-46fc-e464-2e7ab81b2762"
      },
      "source": [
        "x_train = df_video5\n",
        "y_train = y\n",
        "\n",
        "grid_standard = GridSearchCV(Pipeline([('model', LinearRegression())]),param_grid={'model': [Ridge(max_iter=1000), Lasso(max_iter=10000)],'model__alpha': [10.0**x for x in np.arange(-3,2)]},cv=10,scoring='neg_root_mean_squared_error',n_jobs=-1,return_train_score=True,verbose=1).fit(df_video5,y_train)"
      ],
      "execution_count": 29,
      "outputs": [
        {
          "output_type": "stream",
          "text": [
            "Fitting 10 folds for each of 10 candidates, totalling 100 fits\n"
          ],
          "name": "stdout"
        },
        {
          "output_type": "stream",
          "text": [
            "[Parallel(n_jobs=-1)]: Using backend LokyBackend with 4 concurrent workers.\n",
            "[Parallel(n_jobs=-1)]: Done  42 tasks      | elapsed:    3.1s\n",
            "[Parallel(n_jobs=-1)]: Done 100 out of 100 | elapsed:   26.8s finished\n"
          ],
          "name": "stderr"
        }
      ]
    },
    {
      "cell_type": "code",
      "metadata": {
        "colab": {
          "base_uri": "https://localhost:8080/"
        },
        "id": "YlY5TYLQkcBY",
        "outputId": "3ef1c894-4738-475d-8973-b8326dd23e2b"
      },
      "source": [
        "grid_n_standard = GridSearchCV(Pipeline([('model', LinearRegression())]),param_grid={'model': [Ridge(max_iter=1000), Lasso(max_iter=1000)],'model__alpha': [10.0**x for x in np.arange(-3,2)]},cv=10,scoring='neg_root_mean_squared_error',n_jobs=-1,return_train_score=True,verbose=1).fit(df_video3,y_train)"
      ],
      "execution_count": null,
      "outputs": [
        {
          "output_type": "stream",
          "text": [
            "[Parallel(n_jobs=-1)]: Using backend LokyBackend with 4 concurrent workers.\n"
          ],
          "name": "stderr"
        },
        {
          "output_type": "stream",
          "text": [
            "Fitting 10 folds for each of 10 candidates, totalling 100 fits\n"
          ],
          "name": "stdout"
        },
        {
          "output_type": "stream",
          "text": [
            "[Parallel(n_jobs=-1)]: Done  74 tasks      | elapsed:   49.9s\n",
            "[Parallel(n_jobs=-1)]: Done 100 out of 100 | elapsed:  1.6min finished\n",
            "/usr/local/lib/python3.7/dist-packages/sklearn/linear_model/_coordinate_descent.py:476: ConvergenceWarning: Objective did not converge. You might want to increase the number of iterations. Duality gap: 4164171.4907879713, tolerance: 1784.569817170224\n",
            "  positive)\n"
          ],
          "name": "stderr"
        }
      ]
    },
    {
      "cell_type": "code",
      "metadata": {
        "id": "-V5EijHDkdmv",
        "colab": {
          "base_uri": "https://localhost:8080/",
          "height": 669
        },
        "outputId": "7c77b5fb-e2c5-4ff1-8743-b67fc29a5a67"
      },
      "source": [
        "result1 = pd.DataFrame(grid_n_standard.cv_results_)[['mean_test_score', 'mean_train_score', 'param_model' ]]\n",
        "result1['Standardize'] =0\n",
        "\n",
        "result2 = pd.DataFrame(grid_standard.cv_results_)[['mean_test_score', 'mean_train_score', 'param_model']]\n",
        "result2['Standardize'] = 1\n",
        "\n",
        "results = pd.concat([result1, result2])\n",
        "results = results.sort_values(by=['mean_test_score'], ascending=False).reset_index(drop=True)\n",
        "results"
      ],
      "execution_count": null,
      "outputs": [
        {
          "output_type": "execute_result",
          "data": {
            "text/html": [
              "<div>\n",
              "<style scoped>\n",
              "    .dataframe tbody tr th:only-of-type {\n",
              "        vertical-align: middle;\n",
              "    }\n",
              "\n",
              "    .dataframe tbody tr th {\n",
              "        vertical-align: top;\n",
              "    }\n",
              "\n",
              "    .dataframe thead th {\n",
              "        text-align: right;\n",
              "    }\n",
              "</style>\n",
              "<table border=\"1\" class=\"dataframe\">\n",
              "  <thead>\n",
              "    <tr style=\"text-align: right;\">\n",
              "      <th></th>\n",
              "      <th>mean_test_score</th>\n",
              "      <th>mean_train_score</th>\n",
              "      <th>param_model</th>\n",
              "      <th>Standardize</th>\n",
              "    </tr>\n",
              "  </thead>\n",
              "  <tbody>\n",
              "    <tr>\n",
              "      <th>0</th>\n",
              "      <td>-11.037695</td>\n",
              "      <td>-11.024954</td>\n",
              "      <td>Lasso(alpha=0.1, copy_X=True, fit_intercept=Tr...</td>\n",
              "      <td>1</td>\n",
              "    </tr>\n",
              "    <tr>\n",
              "      <th>1</th>\n",
              "      <td>-11.052017</td>\n",
              "      <td>-11.000246</td>\n",
              "      <td>Lasso(alpha=0.1, copy_X=True, fit_intercept=Tr...</td>\n",
              "      <td>1</td>\n",
              "    </tr>\n",
              "    <tr>\n",
              "      <th>2</th>\n",
              "      <td>-11.054490</td>\n",
              "      <td>-10.997239</td>\n",
              "      <td>Lasso(alpha=0.1, copy_X=True, fit_intercept=Tr...</td>\n",
              "      <td>1</td>\n",
              "    </tr>\n",
              "    <tr>\n",
              "      <th>3</th>\n",
              "      <td>-11.055412</td>\n",
              "      <td>-10.997215</td>\n",
              "      <td>Ridge(alpha=1.0, copy_X=True, fit_intercept=Tr...</td>\n",
              "      <td>1</td>\n",
              "    </tr>\n",
              "    <tr>\n",
              "      <th>4</th>\n",
              "      <td>-11.055838</td>\n",
              "      <td>-10.997195</td>\n",
              "      <td>Ridge(alpha=1.0, copy_X=True, fit_intercept=Tr...</td>\n",
              "      <td>1</td>\n",
              "    </tr>\n",
              "    <tr>\n",
              "      <th>5</th>\n",
              "      <td>-11.055909</td>\n",
              "      <td>-10.997201</td>\n",
              "      <td>Lasso(alpha=0.001, copy_X=True, fit_intercept=...</td>\n",
              "      <td>0</td>\n",
              "    </tr>\n",
              "    <tr>\n",
              "      <th>6</th>\n",
              "      <td>-11.056076</td>\n",
              "      <td>-10.997175</td>\n",
              "      <td>Ridge(alpha=1.0, copy_X=True, fit_intercept=Tr...</td>\n",
              "      <td>1</td>\n",
              "    </tr>\n",
              "    <tr>\n",
              "      <th>7</th>\n",
              "      <td>-11.056641</td>\n",
              "      <td>-10.997452</td>\n",
              "      <td>Lasso(alpha=0.001, copy_X=True, fit_intercept=...</td>\n",
              "      <td>0</td>\n",
              "    </tr>\n",
              "    <tr>\n",
              "      <th>8</th>\n",
              "      <td>-11.057089</td>\n",
              "      <td>-10.997137</td>\n",
              "      <td>Ridge(alpha=1.0, copy_X=True, fit_intercept=Tr...</td>\n",
              "      <td>1</td>\n",
              "    </tr>\n",
              "    <tr>\n",
              "      <th>9</th>\n",
              "      <td>-11.058241</td>\n",
              "      <td>-10.997130</td>\n",
              "      <td>Ridge(alpha=1.0, copy_X=True, fit_intercept=Tr...</td>\n",
              "      <td>1</td>\n",
              "    </tr>\n",
              "    <tr>\n",
              "      <th>10</th>\n",
              "      <td>-11.058560</td>\n",
              "      <td>-10.997130</td>\n",
              "      <td>Ridge(alpha=1.0, copy_X=True, fit_intercept=Tr...</td>\n",
              "      <td>0</td>\n",
              "    </tr>\n",
              "    <tr>\n",
              "      <th>11</th>\n",
              "      <td>-11.058573</td>\n",
              "      <td>-10.997130</td>\n",
              "      <td>Ridge(alpha=1.0, copy_X=True, fit_intercept=Tr...</td>\n",
              "      <td>0</td>\n",
              "    </tr>\n",
              "    <tr>\n",
              "      <th>12</th>\n",
              "      <td>-11.058809</td>\n",
              "      <td>-10.997130</td>\n",
              "      <td>Ridge(alpha=1.0, copy_X=True, fit_intercept=Tr...</td>\n",
              "      <td>0</td>\n",
              "    </tr>\n",
              "    <tr>\n",
              "      <th>13</th>\n",
              "      <td>-11.062918</td>\n",
              "      <td>-10.997130</td>\n",
              "      <td>Ridge(alpha=1.0, copy_X=True, fit_intercept=Tr...</td>\n",
              "      <td>0</td>\n",
              "    </tr>\n",
              "    <tr>\n",
              "      <th>14</th>\n",
              "      <td>-11.066651</td>\n",
              "      <td>-11.014145</td>\n",
              "      <td>Lasso(alpha=0.001, copy_X=True, fit_intercept=...</td>\n",
              "      <td>0</td>\n",
              "    </tr>\n",
              "    <tr>\n",
              "      <th>15</th>\n",
              "      <td>-11.085469</td>\n",
              "      <td>-10.997131</td>\n",
              "      <td>Ridge(alpha=1.0, copy_X=True, fit_intercept=Tr...</td>\n",
              "      <td>0</td>\n",
              "    </tr>\n",
              "    <tr>\n",
              "      <th>16</th>\n",
              "      <td>-11.599091</td>\n",
              "      <td>-11.562955</td>\n",
              "      <td>Lasso(alpha=0.001, copy_X=True, fit_intercept=...</td>\n",
              "      <td>0</td>\n",
              "    </tr>\n",
              "    <tr>\n",
              "      <th>17</th>\n",
              "      <td>-11.744798</td>\n",
              "      <td>-11.763478</td>\n",
              "      <td>Lasso(alpha=0.1, copy_X=True, fit_intercept=Tr...</td>\n",
              "      <td>1</td>\n",
              "    </tr>\n",
              "    <tr>\n",
              "      <th>18</th>\n",
              "      <td>-13.226428</td>\n",
              "      <td>-13.222084</td>\n",
              "      <td>Lasso(alpha=0.001, copy_X=True, fit_intercept=...</td>\n",
              "      <td>0</td>\n",
              "    </tr>\n",
              "    <tr>\n",
              "      <th>19</th>\n",
              "      <td>-16.056461</td>\n",
              "      <td>-16.106140</td>\n",
              "      <td>Lasso(alpha=0.1, copy_X=True, fit_intercept=Tr...</td>\n",
              "      <td>1</td>\n",
              "    </tr>\n",
              "  </tbody>\n",
              "</table>\n",
              "</div>"
            ],
            "text/plain": [
              "    mean_test_score  ...  Standardize\n",
              "0        -11.037695  ...            1\n",
              "1        -11.052017  ...            1\n",
              "2        -11.054490  ...            1\n",
              "3        -11.055412  ...            1\n",
              "4        -11.055838  ...            1\n",
              "5        -11.055909  ...            0\n",
              "6        -11.056076  ...            1\n",
              "7        -11.056641  ...            0\n",
              "8        -11.057089  ...            1\n",
              "9        -11.058241  ...            1\n",
              "10       -11.058560  ...            0\n",
              "11       -11.058573  ...            0\n",
              "12       -11.058809  ...            0\n",
              "13       -11.062918  ...            0\n",
              "14       -11.066651  ...            0\n",
              "15       -11.085469  ...            0\n",
              "16       -11.599091  ...            0\n",
              "17       -11.744798  ...            1\n",
              "18       -13.226428  ...            0\n",
              "19       -16.056461  ...            1\n",
              "\n",
              "[20 rows x 4 columns]"
            ]
          },
          "metadata": {
            "tags": []
          },
          "execution_count": 28
        }
      ]
    },
    {
      "cell_type": "code",
      "metadata": {
        "id": "2JP4MC-nkfd0",
        "colab": {
          "base_uri": "https://localhost:8080/"
        },
        "outputId": "7371febe-d45e-4231-f19f-cf19243593c0"
      },
      "source": [
        "import statsmodels.api as sm\n",
        "print(sm.OLS(y_train, sm.add_constant(df_video3)).fit().pvalues)"
      ],
      "execution_count": null,
      "outputs": [
        {
          "output_type": "stream",
          "text": [
            "/usr/local/lib/python3.7/dist-packages/statsmodels/tools/_testing.py:19: FutureWarning: pandas.util.testing is deprecated. Use the functions in the public API at pandas.testing instead.\n",
            "  import pandas.util.testing as tm\n"
          ],
          "name": "stderr"
        },
        {
          "output_type": "stream",
          "text": [
            "const            5.235365e-190\n",
            "duration          4.709001e-02\n",
            "width             5.568883e-08\n",
            "height            9.271988e-09\n",
            "bitrate          1.456482e-126\n",
            "framerate         3.292809e-10\n",
            "i                 8.259887e-08\n",
            "p                 1.094799e-04\n",
            "b                 7.069405e-06\n",
            "frames            2.192189e-04\n",
            "i_size            4.681481e-01\n",
            "p_size            3.821872e-01\n",
            "size              3.846849e-01\n",
            "o_bitrate         0.000000e+00\n",
            "o_framerate       0.000000e+00\n",
            "o_width          5.218535e-130\n",
            "o_height          1.108057e-03\n",
            "codec_flv         8.780535e-16\n",
            "codec_h264        1.467975e-12\n",
            "codec_mpeg4      3.905647e-129\n",
            "codec_vp8         5.592198e-30\n",
            "o_codec_flv       0.000000e+00\n",
            "o_codec_h264      0.000000e+00\n",
            "o_codec_mpeg4     0.000000e+00\n",
            "o_codec_vp8       7.954758e-10\n",
            "dtype: float64\n"
          ],
          "name": "stdout"
        }
      ]
    },
    {
      "cell_type": "markdown",
      "metadata": {
        "id": "nShuh2WCz_9e"
      },
      "source": [
        "Q14-Q16"
      ]
    },
    {
      "cell_type": "code",
      "metadata": {
        "id": "Ef5Msi988zK3",
        "colab": {
          "base_uri": "https://localhost:8080/"
        },
        "outputId": "37309a2c-923b-4c90-b8ce-3f2a4a01bab4"
      },
      "source": [
        "from sklearn.preprocessing import PolynomialFeatures\n",
        "grid_poly = GridSearchCV(Pipeline([('poly', PolynomialFeatures()),('standardize', StandardScaler()),('model', Ridge(alpha=0.1))]), param_grid={'poly__degree': np.arange(1,7,1)}, cv=10, n_jobs=1, verbose=1, scoring='neg_root_mean_squared_error', return_train_score=True).fit(SelectKBest(score_func=f_regression, k=10).fit_transform(df_video3, y_train), y_train)"
      ],
      "execution_count": null,
      "outputs": [
        {
          "output_type": "stream",
          "text": [
            "Fitting 10 folds for each of 6 candidates, totalling 60 fits\n"
          ],
          "name": "stdout"
        },
        {
          "output_type": "stream",
          "text": [
            "[Parallel(n_jobs=1)]: Using backend SequentialBackend with 1 concurrent workers.\n",
            "[Parallel(n_jobs=1)]: Done  60 out of  60 | elapsed: 18.9min finished\n"
          ],
          "name": "stderr"
        }
      ]
    },
    {
      "cell_type": "code",
      "metadata": {
        "id": "PU8wXPPuGRbr",
        "colab": {
          "base_uri": "https://localhost:8080/",
          "height": 235
        },
        "outputId": "63395e7b-cac8-4056-c67c-5429e74ed878"
      },
      "source": [
        "result = pd.DataFrame(grid_poly.cv_results_)[['param_poly__degree','mean_test_score','mean_train_score']]\n",
        "result"
      ],
      "execution_count": null,
      "outputs": [
        {
          "output_type": "execute_result",
          "data": {
            "text/html": [
              "<div>\n",
              "<style scoped>\n",
              "    .dataframe tbody tr th:only-of-type {\n",
              "        vertical-align: middle;\n",
              "    }\n",
              "\n",
              "    .dataframe tbody tr th {\n",
              "        vertical-align: top;\n",
              "    }\n",
              "\n",
              "    .dataframe thead th {\n",
              "        text-align: right;\n",
              "    }\n",
              "</style>\n",
              "<table border=\"1\" class=\"dataframe\">\n",
              "  <thead>\n",
              "    <tr style=\"text-align: right;\">\n",
              "      <th></th>\n",
              "      <th>param_poly__degree</th>\n",
              "      <th>mean_test_score</th>\n",
              "      <th>mean_train_score</th>\n",
              "    </tr>\n",
              "  </thead>\n",
              "  <tbody>\n",
              "    <tr>\n",
              "      <th>0</th>\n",
              "      <td>1</td>\n",
              "      <td>-11.059453</td>\n",
              "      <td>-11.038711</td>\n",
              "    </tr>\n",
              "    <tr>\n",
              "      <th>1</th>\n",
              "      <td>2</td>\n",
              "      <td>-6.672095</td>\n",
              "      <td>-6.524858</td>\n",
              "    </tr>\n",
              "    <tr>\n",
              "      <th>2</th>\n",
              "      <td>3</td>\n",
              "      <td>-4.759948</td>\n",
              "      <td>-4.386742</td>\n",
              "    </tr>\n",
              "    <tr>\n",
              "      <th>3</th>\n",
              "      <td>4</td>\n",
              "      <td>-4.561423</td>\n",
              "      <td>-3.708211</td>\n",
              "    </tr>\n",
              "    <tr>\n",
              "      <th>4</th>\n",
              "      <td>5</td>\n",
              "      <td>-5.702094</td>\n",
              "      <td>-3.434984</td>\n",
              "    </tr>\n",
              "    <tr>\n",
              "      <th>5</th>\n",
              "      <td>6</td>\n",
              "      <td>-7.256978</td>\n",
              "      <td>-3.309889</td>\n",
              "    </tr>\n",
              "  </tbody>\n",
              "</table>\n",
              "</div>"
            ],
            "text/plain": [
              "  param_poly__degree  mean_test_score  mean_train_score\n",
              "0                  1       -11.059453        -11.038711\n",
              "1                  2        -6.672095         -6.524858\n",
              "2                  3        -4.759948         -4.386742\n",
              "3                  4        -4.561423         -3.708211\n",
              "4                  5        -5.702094         -3.434984\n",
              "5                  6        -7.256978         -3.309889"
            ]
          },
          "metadata": {
            "tags": []
          },
          "execution_count": 31
        }
      ]
    },
    {
      "cell_type": "code",
      "metadata": {
        "id": "Cqx3Gae2GS3_",
        "colab": {
          "base_uri": "https://localhost:8080/",
          "height": 326
        },
        "outputId": "93e2ba86-a97f-4177-af97-6732016c9aa9"
      },
      "source": [
        "fig,ax = plt.subplots(2)\n",
        "\n",
        "\n",
        "ax[1].plot(result['param_poly__degree'],-result['mean_test_score'])\n",
        "ax[1].set_title('test vs. degree')\n",
        "fig.tight_layout()\n",
        "ax[0].plot(result['param_poly__degree'],-result['mean_train_score'])\n",
        "ax[0].set_title('train vs. degree')"
      ],
      "execution_count": null,
      "outputs": [
        {
          "output_type": "execute_result",
          "data": {
            "text/plain": [
              "Text(0.5, 1.0, 'train vs. degree')"
            ]
          },
          "metadata": {
            "tags": []
          },
          "execution_count": 32
        },
        {
          "output_type": "display_data",
          "data": {
            "image/png": "[encoded data removed]",
            "text/plain": [
              "<Figure size 432x288 with 2 Axes>"
            ]
          },
          "metadata": {
            "tags": [],
            "needs_background": "light"
          }
        }
      ]
    },
    {
      "cell_type": "code",
      "metadata": {
        "id": "WeIvDy2uN98t"
      },
      "source": [
        "inv_bitrate= np.divide(np.prod(df_video3[['o_height', 'o_width']], axis=1), df_video3['o_bitrate'])\n",
        "x_inverse = StandardScaler().fit_transform([inv_bitrate]).reshape(-1,1)\n",
        "df_inverse = df_video5.copy(deep=True)\n",
        "df_inverse['bit']=x_inverse"
      ],
      "execution_count": null,
      "outputs": []
    },
    {
      "cell_type": "code",
      "metadata": {
        "id": "89YT5A5rRaMd"
      },
      "source": [
        "inv_cv= cross_validate(Ridge(alpha=0.1, max_iter=1000), \n",
        "                                   df_inverse, y_train, scoring='neg_root_mean_squared_error', cv=10)"
      ],
      "execution_count": null,
      "outputs": []
    },
    {
      "cell_type": "code",
      "metadata": {
        "colab": {
          "base_uri": "https://localhost:8080/"
        },
        "id": "T_FBc5mMKMWN",
        "outputId": "ea65c7a2-d796-48d9-8bc4-c203819c3bd9"
      },
      "source": [
        "rmse_inverse_concat = np.mean(-inv_cv['test_score'])\n",
        "rmse_inverse_concat"
      ],
      "execution_count": null,
      "outputs": [
        {
          "output_type": "execute_result",
          "data": {
            "text/plain": [
              "11.056075997583076"
            ]
          },
          "metadata": {
            "tags": []
          },
          "execution_count": 43
        }
      ]
    },
    {
      "cell_type": "markdown",
      "metadata": {
        "id": "RrbLDbJGRdyz"
      },
      "source": [
        "Q17-Q20"
      ]
    },
    {
      "cell_type": "code",
      "metadata": {
        "id": "jomocD5SRfAK",
        "colab": {
          "base_uri": "https://localhost:8080/",
          "height": 267
        },
        "outputId": "ee30290c-f01f-4a56-da86-158e7c62756f"
      },
      "source": [
        "from sklearn.linear_model import LinearRegression\n",
        "mutual=[]\n",
        "fregre=[]\n",
        "for i in range(1,20):\n",
        "  fscore_selected = SelectKBest(score_func=f_regression, k=i).fit_transform(x_train, y_train)\n",
        "  video_f = cross_validate(LinearRegression(), fscore_selected, y_train, scoring=['neg_mean_squared_error'], cv=10)\n",
        "  rmse_f = video_f['test_neg_mean_squared_error']\n",
        "  fregre.append(rmse_f.mean())\n",
        "\n",
        "plt.plot(fregre,label='f')\n",
        "plt.legend()\n",
        "best_f=np.argmax(fregre)"
      ],
      "execution_count": null,
      "outputs": [
        {
          "output_type": "display_data",
          "data": {
            "image/png": "[encoded data removed]",
            "text/plain": [
              "<Figure size 432x288 with 1 Axes>"
            ]
          },
          "metadata": {
            "tags": [],
            "needs_background": "light"
          }
        }
      ]
    },
    {
      "cell_type": "code",
      "metadata": {
        "id": "GdEBohscgzXz",
        "colab": {
          "base_uri": "https://localhost:8080/"
        },
        "outputId": "28def00e-5f8f-45a7-bdde-22597ff58828"
      },
      "source": [
        "b = best_f\n",
        "b"
      ],
      "execution_count": null,
      "outputs": [
        {
          "output_type": "execute_result",
          "data": {
            "text/plain": [
              "13"
            ]
          },
          "metadata": {
            "tags": []
          },
          "execution_count": 66
        }
      ]
    },
    {
      "cell_type": "code",
      "metadata": {
        "id": "CdUT1XS6g1Ew"
      },
      "source": [
        "data_f_selected = SelectKBest(score_func=f_regression, k = 13).fit_transform(x_train, y_train)\n",
        "video_f = cross_validate(LinearRegression(),data_f_selected,y_train,scoring='neg_root_mean_squared_error', \n",
        "                            return_train_score=True, cv=10)\n",
        "linear_video=cross_validate(LinearRegression(),x_train,y_train,scoring='neg_root_mean_squared_error', \n",
        "                            return_train_score=True, cv=10)"
      ],
      "execution_count": 16,
      "outputs": []
    },
    {
      "cell_type": "code",
      "metadata": {
        "id": "MhuuUy7cg3s6",
        "colab": {
          "base_uri": "https://localhost:8080/"
        },
        "outputId": "f4b01fa1-26a6-4356-e0ed-07aea8017f34"
      },
      "source": [
        "linear_video['test_score'].mean()"
      ],
      "execution_count": 17,
      "outputs": [
        {
          "output_type": "execute_result",
          "data": {
            "text/plain": [
              "-1419078811.3284357"
            ]
          },
          "metadata": {
            "tags": []
          },
          "execution_count": 17
        }
      ]
    },
    {
      "cell_type": "code",
      "metadata": {
        "id": "JvKmFAZgg5YV",
        "colab": {
          "base_uri": "https://localhost:8080/"
        },
        "outputId": "4f4fac85-9428-4df2-cbb2-e803e1e4edab"
      },
      "source": [
        "video_f['test_score'].mean()"
      ],
      "execution_count": null,
      "outputs": [
        {
          "output_type": "execute_result",
          "data": {
            "text/plain": [
              "-11.041940211498174"
            ]
          },
          "metadata": {
            "tags": []
          },
          "execution_count": 69
        }
      ]
    },
    {
      "cell_type": "code",
      "metadata": {
        "id": "n5yw5l08g6yK",
        "colab": {
          "base_uri": "https://localhost:8080/"
        },
        "outputId": "f32842fb-00fe-455a-e9be-114326e726b2"
      },
      "source": [
        "top10 = np.argsort(best_f)[::-1][:10]\n",
        "top10"
      ],
      "execution_count": null,
      "outputs": [
        {
          "output_type": "execute_result",
          "data": {
            "text/plain": [
              "array([0])"
            ]
          },
          "metadata": {
            "tags": []
          },
          "execution_count": 70
        }
      ]
    },
    {
      "cell_type": "code",
      "metadata": {
        "id": "f-5Jd2jyg89r",
        "colab": {
          "base_uri": "https://localhost:8080/"
        },
        "outputId": "25066044-d95c-4aaf-e49d-f05a6ec52976"
      },
      "source": [
        "from sklearn.neural_network import MLPRegressor\n",
        "alpha = 10.**np.arange(-3, -1)\n",
        "\n",
        "grid_nn = GridSearchCV(MLPRegressor(solver='adam',max_iter=5000,beta_1 = 0.9,beta_2 = 0.99), param_grid={'hidden_layer_sizes':[(32,32,32),(64,64,64)],'activation':['identity', 'relu'],'alpha': alpha}, cv=10, n_jobs=-1, verbose=1, scoring='neg_root_mean_squared_error', return_train_score=True).fit(data_f_selected, y_train)"
      ],
      "execution_count": null,
      "outputs": [
        {
          "output_type": "stream",
          "text": [
            "Fitting 10 folds for each of 8 candidates, totalling 80 fits\n"
          ],
          "name": "stdout"
        },
        {
          "output_type": "stream",
          "text": [
            "[Parallel(n_jobs=-1)]: Using backend LokyBackend with 4 concurrent workers.\n",
            "[Parallel(n_jobs=-1)]: Done  42 tasks      | elapsed:  5.7min\n",
            "[Parallel(n_jobs=-1)]: Done  80 out of  80 | elapsed: 59.1min finished\n"
          ],
          "name": "stderr"
        }
      ]
    },
    {
      "cell_type": "code",
      "metadata": {
        "id": "5y7cebHcg-9p",
        "colab": {
          "base_uri": "https://localhost:8080/"
        },
        "outputId": "0d677dd2-7b01-49ac-b977-32fc6ee3d254"
      },
      "source": [
        "alpha = 10.**np.arange(-7, 2)\n",
        "alpha.shape"
      ],
      "execution_count": null,
      "outputs": [
        {
          "output_type": "execute_result",
          "data": {
            "text/plain": [
              "(9,)"
            ]
          },
          "metadata": {
            "tags": []
          },
          "execution_count": 72
        }
      ]
    },
    {
      "cell_type": "code",
      "metadata": {
        "id": "sRYbjgWsg_XP",
        "colab": {
          "base_uri": "https://localhost:8080/",
          "height": 197
        },
        "outputId": "a7f86c43-454e-4458-87ff-66095c61ef4c"
      },
      "source": [
        "nn_results = pd.DataFrame(grid_nn.cv_results_)[['param_alpha','param_activation','param_hidden_layer_sizes','mean_test_score','mean_train_score']]\n",
        "nn_results=nn_results.sort_values(by=['mean_test_score'],ascending=False)\n",
        "nn_results.head()"
      ],
      "execution_count": null,
      "outputs": [
        {
          "output_type": "execute_result",
          "data": {
            "text/html": [
              "<div>\n",
              "<style scoped>\n",
              "    .dataframe tbody tr th:only-of-type {\n",
              "        vertical-align: middle;\n",
              "    }\n",
              "\n",
              "    .dataframe tbody tr th {\n",
              "        vertical-align: top;\n",
              "    }\n",
              "\n",
              "    .dataframe thead th {\n",
              "        text-align: right;\n",
              "    }\n",
              "</style>\n",
              "<table border=\"1\" class=\"dataframe\">\n",
              "  <thead>\n",
              "    <tr style=\"text-align: right;\">\n",
              "      <th></th>\n",
              "      <th>param_alpha</th>\n",
              "      <th>param_activation</th>\n",
              "      <th>param_hidden_layer_sizes</th>\n",
              "      <th>mean_test_score</th>\n",
              "      <th>mean_train_score</th>\n",
              "    </tr>\n",
              "  </thead>\n",
              "  <tbody>\n",
              "    <tr>\n",
              "      <th>4</th>\n",
              "      <td>0.001</td>\n",
              "      <td>relu</td>\n",
              "      <td>(32, 32, 32)</td>\n",
              "      <td>-4.704740</td>\n",
              "      <td>-2.625139</td>\n",
              "    </tr>\n",
              "    <tr>\n",
              "      <th>6</th>\n",
              "      <td>0.01</td>\n",
              "      <td>relu</td>\n",
              "      <td>(32, 32, 32)</td>\n",
              "      <td>-4.763165</td>\n",
              "      <td>-2.617754</td>\n",
              "    </tr>\n",
              "    <tr>\n",
              "      <th>5</th>\n",
              "      <td>0.001</td>\n",
              "      <td>relu</td>\n",
              "      <td>(64, 64, 64)</td>\n",
              "      <td>-5.142316</td>\n",
              "      <td>-1.875029</td>\n",
              "    </tr>\n",
              "    <tr>\n",
              "      <th>7</th>\n",
              "      <td>0.01</td>\n",
              "      <td>relu</td>\n",
              "      <td>(64, 64, 64)</td>\n",
              "      <td>-5.642840</td>\n",
              "      <td>-1.798004</td>\n",
              "    </tr>\n",
              "    <tr>\n",
              "      <th>1</th>\n",
              "      <td>0.001</td>\n",
              "      <td>identity</td>\n",
              "      <td>(64, 64, 64)</td>\n",
              "      <td>-11.009360</td>\n",
              "      <td>-11.029723</td>\n",
              "    </tr>\n",
              "  </tbody>\n",
              "</table>\n",
              "</div>"
            ],
            "text/plain": [
              "  param_alpha param_activation  ... mean_test_score  mean_train_score\n",
              "4       0.001             relu  ...       -4.704740         -2.625139\n",
              "6        0.01             relu  ...       -4.763165         -2.617754\n",
              "5       0.001             relu  ...       -5.142316         -1.875029\n",
              "7        0.01             relu  ...       -5.642840         -1.798004\n",
              "1       0.001         identity  ...      -11.009360        -11.029723\n",
              "\n",
              "[5 rows x 5 columns]"
            ]
          },
          "metadata": {
            "tags": []
          },
          "execution_count": 73
        }
      ]
    },
    {
      "cell_type": "markdown",
      "metadata": {
        "id": "_X8S5HD0XmeY"
      },
      "source": [
        "Q21-Q23"
      ]
    },
    {
      "cell_type": "code",
      "metadata": {
        "id": "_9G4PRU-XoSK",
        "colab": {
          "base_uri": "https://localhost:8080/",
          "height": 317
        },
        "outputId": "d4c51cb0-598f-4d27-d894-617712cc08ac"
      },
      "source": [
        "from sklearn.ensemble import RandomForestRegressor\n",
        "pipe_rfr = Pipeline([\n",
        "    ('standardize', StandardScaler()),\n",
        "    ('model', RandomForestRegressor())\n",
        "])\n",
        "\n",
        "param_grid_rfr = {\n",
        "    'model__max_features': np.arange(1,18,2),\n",
        "\n",
        "}\n",
        "\n",
        "grid_num_features = GridSearchCV(pipe_rfr, param_grid=param_grid_rfr, cv=10, n_jobs=-1, verbose=1, \n",
        "                                 scoring='neg_root_mean_squared_error', \n",
        "                                 return_train_score=True).fit(x_train, y_train)\n",
        "\n",
        "rf_feature_results = pd.DataFrame(grid_num_features.cv_results_)[['mean_test_score', 'mean_train_score', 'param_model__max_features']]\n",
        "rf_feature_results=rf_feature_results.sort_values(by=['mean_test_score'],ascending=False).reset_index(drop=True)\n",
        "rf_feature_results.head()"
      ],
      "execution_count": null,
      "outputs": [
        {
          "output_type": "stream",
          "text": [
            "Fitting 10 folds for each of 9 candidates, totalling 90 fits\n"
          ],
          "name": "stdout"
        },
        {
          "output_type": "stream",
          "text": [
            "[Parallel(n_jobs=-1)]: Using backend LokyBackend with 4 concurrent workers.\n",
            "/usr/local/lib/python3.7/dist-packages/joblib/externals/loky/process_executor.py:691: UserWarning: A worker stopped while some jobs were given to the executor. This can be caused by a too short worker timeout or by a memory leak.\n",
            "  \"timeout or by a memory leak.\", UserWarning\n",
            "[Parallel(n_jobs=-1)]: Done  42 tasks      | elapsed:  3.3min\n",
            "[Parallel(n_jobs=-1)]: Done  90 out of  90 | elapsed: 10.1min finished\n"
          ],
          "name": "stderr"
        },
        {
          "output_type": "execute_result",
          "data": {
            "text/html": [
              "<div>\n",
              "<style scoped>\n",
              "    .dataframe tbody tr th:only-of-type {\n",
              "        vertical-align: middle;\n",
              "    }\n",
              "\n",
              "    .dataframe tbody tr th {\n",
              "        vertical-align: top;\n",
              "    }\n",
              "\n",
              "    .dataframe thead th {\n",
              "        text-align: right;\n",
              "    }\n",
              "</style>\n",
              "<table border=\"1\" class=\"dataframe\">\n",
              "  <thead>\n",
              "    <tr style=\"text-align: right;\">\n",
              "      <th></th>\n",
              "      <th>mean_test_score</th>\n",
              "      <th>mean_train_score</th>\n",
              "      <th>param_model__max_features</th>\n",
              "    </tr>\n",
              "  </thead>\n",
              "  <tbody>\n",
              "    <tr>\n",
              "      <th>0</th>\n",
              "      <td>-4.013413</td>\n",
              "      <td>-0.544693</td>\n",
              "      <td>5</td>\n",
              "    </tr>\n",
              "    <tr>\n",
              "      <th>1</th>\n",
              "      <td>-4.013652</td>\n",
              "      <td>-0.500264</td>\n",
              "      <td>7</td>\n",
              "    </tr>\n",
              "    <tr>\n",
              "      <th>2</th>\n",
              "      <td>-4.050132</td>\n",
              "      <td>-0.482067</td>\n",
              "      <td>9</td>\n",
              "    </tr>\n",
              "    <tr>\n",
              "      <th>3</th>\n",
              "      <td>-4.068356</td>\n",
              "      <td>-0.473912</td>\n",
              "      <td>11</td>\n",
              "    </tr>\n",
              "    <tr>\n",
              "      <th>4</th>\n",
              "      <td>-4.081914</td>\n",
              "      <td>-0.472561</td>\n",
              "      <td>13</td>\n",
              "    </tr>\n",
              "  </tbody>\n",
              "</table>\n",
              "</div>"
            ],
            "text/plain": [
              "   mean_test_score  mean_train_score param_model__max_features\n",
              "0        -4.013413         -0.544693                         5\n",
              "1        -4.013652         -0.500264                         7\n",
              "2        -4.050132         -0.482067                         9\n",
              "3        -4.068356         -0.473912                        11\n",
              "4        -4.081914         -0.472561                        13"
            ]
          },
          "metadata": {
            "tags": []
          },
          "execution_count": 74
        }
      ]
    },
    {
      "cell_type": "code",
      "metadata": {
        "colab": {
          "base_uri": "https://localhost:8080/",
          "height": 197
        },
        "id": "AHwO3EnAUBjw",
        "outputId": "3190eb80-3939-4068-9795-1e161ca18ca0"
      },
      "source": [
        "rf_feature_results=rf_feature_results.sort_values(by=['mean_test_score'],ascending=False).reset_index(drop=True)\n",
        "rf_feature_results.head()"
      ],
      "execution_count": null,
      "outputs": [
        {
          "output_type": "execute_result",
          "data": {
            "text/html": [
              "<div>\n",
              "<style scoped>\n",
              "    .dataframe tbody tr th:only-of-type {\n",
              "        vertical-align: middle;\n",
              "    }\n",
              "\n",
              "    .dataframe tbody tr th {\n",
              "        vertical-align: top;\n",
              "    }\n",
              "\n",
              "    .dataframe thead th {\n",
              "        text-align: right;\n",
              "    }\n",
              "</style>\n",
              "<table border=\"1\" class=\"dataframe\">\n",
              "  <thead>\n",
              "    <tr style=\"text-align: right;\">\n",
              "      <th></th>\n",
              "      <th>mean_test_score</th>\n",
              "      <th>mean_train_score</th>\n",
              "      <th>param_model__max_features</th>\n",
              "    </tr>\n",
              "  </thead>\n",
              "  <tbody>\n",
              "    <tr>\n",
              "      <th>0</th>\n",
              "      <td>-4.013413</td>\n",
              "      <td>-0.544693</td>\n",
              "      <td>5</td>\n",
              "    </tr>\n",
              "    <tr>\n",
              "      <th>1</th>\n",
              "      <td>-4.013652</td>\n",
              "      <td>-0.500264</td>\n",
              "      <td>7</td>\n",
              "    </tr>\n",
              "    <tr>\n",
              "      <th>2</th>\n",
              "      <td>-4.050132</td>\n",
              "      <td>-0.482067</td>\n",
              "      <td>9</td>\n",
              "    </tr>\n",
              "    <tr>\n",
              "      <th>3</th>\n",
              "      <td>-4.068356</td>\n",
              "      <td>-0.473912</td>\n",
              "      <td>11</td>\n",
              "    </tr>\n",
              "    <tr>\n",
              "      <th>4</th>\n",
              "      <td>-4.081914</td>\n",
              "      <td>-0.472561</td>\n",
              "      <td>13</td>\n",
              "    </tr>\n",
              "  </tbody>\n",
              "</table>\n",
              "</div>"
            ],
            "text/plain": [
              "   mean_test_score  mean_train_score param_model__max_features\n",
              "0        -4.013413         -0.544693                         5\n",
              "1        -4.013652         -0.500264                         7\n",
              "2        -4.050132         -0.482067                         9\n",
              "3        -4.068356         -0.473912                        11\n",
              "4        -4.081914         -0.472561                        13"
            ]
          },
          "metadata": {
            "tags": []
          },
          "execution_count": 75
        }
      ]
    },
    {
      "cell_type": "code",
      "metadata": {
        "colab": {
          "base_uri": "https://localhost:8080/"
        },
        "id": "jNC6W8BAUhCm",
        "outputId": "31492576-bb3f-45a1-e4f8-a0dfb18932a1"
      },
      "source": [
        "max_feature = rf_feature_results['param_model__max_features'][0]\n",
        "max_feature"
      ],
      "execution_count": null,
      "outputs": [
        {
          "output_type": "execute_result",
          "data": {
            "text/plain": [
              "5"
            ]
          },
          "metadata": {
            "tags": []
          },
          "execution_count": 76
        }
      ]
    },
    {
      "cell_type": "code",
      "metadata": {
        "id": "AaE8NI29Xo3G"
      },
      "source": [
        "pipe_rfr = Pipeline([\n",
        "    ('standardize', StandardScaler()),\n",
        "    ('model', RandomForestRegressor(max_features=max_feature))\n",
        "])\n",
        "\n",
        "param_grid_rfr = {\n",
        "\n",
        "    'model__n_estimators': np.arange(10, 210, 10),\n",
        "    \n",
        "}\n",
        "\n",
        "grid_num_estimator = GridSearchCV(pipe_rfr, param_grid=param_grid_rfr, cv=10, n_jobs=-1, verbose=1, \n",
        "                                 scoring='neg_root_mean_squared_error', \n",
        "                                 return_train_score=True).fit(x_train, y_train)\n",
        "\n",
        "rf_estimator_results = pd.DataFrame(grid_num_estimator.cv_results_)[['mean_test_score','param_model__n_estimators']]\n",
        "rf_estimator_results=rf_depth_estimators.sort_values(by=['mean_test_score'],ascending=False).reset_index(drop=True)\n"
      ],
      "execution_count": null,
      "outputs": []
    },
    {
      "cell_type": "code",
      "metadata": {
        "id": "fua_XGYqzd4_"
      },
      "source": [
        "rf_estimator_results=rf_estimator_results.sort_values(by=['mean_test_score'],ascending=False).reset_index(drop=True)"
      ],
      "execution_count": null,
      "outputs": []
    },
    {
      "cell_type": "code",
      "metadata": {
        "colab": {
          "base_uri": "https://localhost:8080/"
        },
        "id": "5PD-4kPHUseB",
        "outputId": "9c0ec391-ceaa-410e-8dc8-5a0878df2bf8"
      },
      "source": [
        "max_estimator = rf_estimator_results['param_model__n_estimators'][0]\n",
        "max_estimator"
      ],
      "execution_count": null,
      "outputs": [
        {
          "output_type": "execute_result",
          "data": {
            "text/plain": [
              "190"
            ]
          },
          "metadata": {
            "tags": []
          },
          "execution_count": 81
        }
      ]
    },
    {
      "cell_type": "code",
      "metadata": {
        "id": "ORKT0hkQXpSr",
        "colab": {
          "base_uri": "https://localhost:8080/",
          "height": 334
        },
        "outputId": "b86b9135-925e-4bf8-971b-95964737470a"
      },
      "source": [
        "pipe_rfr = Pipeline([\n",
        "    ('standardize', StandardScaler()),\n",
        "    ('model', RandomForestRegressor(max_features=max_feature,n_estimators=max_estimator))\n",
        "])\n",
        "\n",
        "param_grid_rfr = {\n",
        "\n",
        "    'model__max_depth': np.arange(2, 26, 1)\n",
        "}\n",
        "\n",
        "grid_num_depth = GridSearchCV(pipe_rfr, param_grid=param_grid_rfr, cv=10, n_jobs=-1, verbose=1, \n",
        "                                 scoring='neg_root_mean_squared_error', \n",
        "                                 return_train_score=True).fit(x_train, y_train)\n",
        "\n",
        "rf_depth_results = pd.DataFrame(grid_num_depth.cv_results_)[['mean_test_score', 'mean_train_score','param_model__max_depth']]\n",
        "rf_depth_results=rf_depth_results.sort_values(by=['mean_test_score'],ascending=False)\n",
        "rf_depth_results.head()"
      ],
      "execution_count": null,
      "outputs": [
        {
          "output_type": "stream",
          "text": [
            "Fitting 10 folds for each of 24 candidates, totalling 240 fits\n"
          ],
          "name": "stdout"
        },
        {
          "output_type": "stream",
          "text": [
            "[Parallel(n_jobs=-1)]: Using backend LokyBackend with 4 concurrent workers.\n",
            "[Parallel(n_jobs=-1)]: Done  42 tasks      | elapsed:  1.2min\n",
            "/usr/local/lib/python3.7/dist-packages/joblib/externals/loky/process_executor.py:691: UserWarning: A worker stopped while some jobs were given to the executor. This can be caused by a too short worker timeout or by a memory leak.\n",
            "  \"timeout or by a memory leak.\", UserWarning\n",
            "[Parallel(n_jobs=-1)]: Done 192 tasks      | elapsed: 15.0min\n",
            "[Parallel(n_jobs=-1)]: Done 240 out of 240 | elapsed: 22.8min finished\n"
          ],
          "name": "stderr"
        },
        {
          "output_type": "execute_result",
          "data": {
            "text/html": [
              "<div>\n",
              "<style scoped>\n",
              "    .dataframe tbody tr th:only-of-type {\n",
              "        vertical-align: middle;\n",
              "    }\n",
              "\n",
              "    .dataframe tbody tr th {\n",
              "        vertical-align: top;\n",
              "    }\n",
              "\n",
              "    .dataframe thead th {\n",
              "        text-align: right;\n",
              "    }\n",
              "</style>\n",
              "<table border=\"1\" class=\"dataframe\">\n",
              "  <thead>\n",
              "    <tr style=\"text-align: right;\">\n",
              "      <th></th>\n",
              "      <th>mean_test_score</th>\n",
              "      <th>mean_train_score</th>\n",
              "      <th>param_model__max_depth</th>\n",
              "    </tr>\n",
              "  </thead>\n",
              "  <tbody>\n",
              "    <tr>\n",
              "      <th>19</th>\n",
              "      <td>-3.998347</td>\n",
              "      <td>-0.559323</td>\n",
              "      <td>21</td>\n",
              "    </tr>\n",
              "    <tr>\n",
              "      <th>23</th>\n",
              "      <td>-4.014247</td>\n",
              "      <td>-0.529636</td>\n",
              "      <td>25</td>\n",
              "    </tr>\n",
              "    <tr>\n",
              "      <th>20</th>\n",
              "      <td>-4.018708</td>\n",
              "      <td>-0.540432</td>\n",
              "      <td>22</td>\n",
              "    </tr>\n",
              "    <tr>\n",
              "      <th>22</th>\n",
              "      <td>-4.027311</td>\n",
              "      <td>-0.528356</td>\n",
              "      <td>24</td>\n",
              "    </tr>\n",
              "    <tr>\n",
              "      <th>17</th>\n",
              "      <td>-4.032723</td>\n",
              "      <td>-0.641261</td>\n",
              "      <td>19</td>\n",
              "    </tr>\n",
              "  </tbody>\n",
              "</table>\n",
              "</div>"
            ],
            "text/plain": [
              "    mean_test_score  mean_train_score param_model__max_depth\n",
              "19        -3.998347         -0.559323                     21\n",
              "23        -4.014247         -0.529636                     25\n",
              "20        -4.018708         -0.540432                     22\n",
              "22        -4.027311         -0.528356                     24\n",
              "17        -4.032723         -0.641261                     19"
            ]
          },
          "metadata": {
            "tags": []
          },
          "execution_count": 83
        }
      ]
    },
    {
      "cell_type": "code",
      "metadata": {
        "id": "BRk251WObgqy",
        "colab": {
          "base_uri": "https://localhost:8080/"
        },
        "outputId": "8fc9cc19-3626-48ef-9682-e68f2adb515c"
      },
      "source": [
        "from sklearn.ensemble import RandomForestRegressor\n",
        "rf_viz = RandomForestRegressor(n_estimators=190, max_features=5, max_depth=4, oob_score=True)\n",
        "rf_viz.fit(x_train, y_train)"
      ],
      "execution_count": 33,
      "outputs": [
        {
          "output_type": "execute_result",
          "data": {
            "text/plain": [
              "RandomForestRegressor(bootstrap=True, ccp_alpha=0.0, criterion='mse',\n",
              "                      max_depth=4, max_features=5, max_leaf_nodes=None,\n",
              "                      max_samples=None, min_impurity_decrease=0.0,\n",
              "                      min_impurity_split=None, min_samples_leaf=1,\n",
              "                      min_samples_split=2, min_weight_fraction_leaf=0.0,\n",
              "                      n_estimators=190, n_jobs=None, oob_score=True,\n",
              "                      random_state=None, verbose=0, warm_start=False)"
            ]
          },
          "metadata": {
            "tags": []
          },
          "execution_count": 33
        }
      ]
    },
    {
      "cell_type": "code",
      "metadata": {
        "id": "oTizKc7Ubyt4",
        "colab": {
          "base_uri": "https://localhost:8080/",
          "height": 467
        },
        "outputId": "8c5d3c49-3983-48da-a07a-b6d7f4597b46"
      },
      "source": [
        "tree = rf_viz.estimators_[1]\n",
        "export_graphviz(tree, out_file = 'tree.dot', feature_names = x_train.columns, rounded = True, precision = 1)\n",
        "(graph, ) = pydot.graph_from_dot_file('tree.dot')\n",
        "Image(graph.create_png())"
      ],
      "execution_count": 34,
      "outputs": [
        {
          "output_type": "execute_result",
          "data": {
            "image/png": "[encoded data removed]",
            "text/plain": [
              "<IPython.core.display.Image object>"
            ]
          },
          "metadata": {
            "tags": []
          },
          "execution_count": 34
        }
      ]
    },
    {
      "cell_type": "code",
      "metadata": {
        "id": "nmPyVtI8c9N6"
      },
      "source": [
        "while True:pass"
      ],
      "execution_count": null,
      "outputs": []
    },
    {
      "cell_type": "code",
      "metadata": {
        "id": "sntOXFjkRR5A"
      },
      "source": [
        "from sklearn.ensemble import RandomForestRegressor\n",
        "clf= RandomForestRegressor(n_estimators=190,max_features=5,max_depth=21,oob_score=True).fit(x_train,y_train)"
      ],
      "execution_count": 31,
      "outputs": []
    },
    {
      "cell_type": "code",
      "metadata": {
        "colab": {
          "base_uri": "https://localhost:8080/"
        },
        "id": "zngV9QEdRWZj",
        "outputId": "2e660926-6849-40cd-fafd-9940316874dc"
      },
      "source": [
        "r_2,oob= clf.score(x_train, y_train),clf.oob_score_\n",
        "r_2,oob"
      ],
      "execution_count": 32,
      "outputs": [
        {
          "output_type": "execute_result",
          "data": {
            "text/plain": [
              "(0.9988200855497541, 0.9922150918129832)"
            ]
          },
          "metadata": {
            "tags": []
          },
          "execution_count": 32
        }
      ]
    }
  ]
}